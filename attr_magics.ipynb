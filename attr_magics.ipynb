{
 "cells": [
  {
   "cell_type": "code",
   "execution_count": 8,
   "metadata": {},
   "outputs": [],
   "source": [
    "import os\n",
    "class Folder():\n",
    "    def __init__(self, folder):\n",
    "        self.__dict__['_folder'] = folder\n",
    "    def __getattr__(self, name):\n",
    "        with open(os.path.join(self.__dict__['_folder'], name), 'r') as f:\n",
    "            return f.read()\n",
    "    def __setattr__(self, name, txt):\n",
    "        with open(os.path.join(self.__dict__['_folder'], name), 'w') as f:\n",
    "            f.write(txt)\n",
    "    "
   ]
  },
  {
   "cell_type": "code",
   "execution_count": 10,
   "metadata": {},
   "outputs": [
    {
     "name": "stdout",
     "output_type": "stream",
     "text": [
      "1.09861228867\n",
      "0.69314718056\n",
      "0.584962500721\n",
      "0.584962500721 1.0\n",
      "1.70951129135 1.0\n",
      "1.40942083965 0.5\n",
      "2.44247459618 0.25\n",
      "2.26001675267 0.0833333333333\n",
      "3.84590604155 0.0277777777778\n",
      "1.18216439047 0.00694444444444\n",
      "5.48954709212 0.00347222222222\n",
      "2.04270440188 0.000578703703704\n",
      "23.4167897459 0.000192901234568\n",
      "2.39929127299 8.03755144033e-06\n",
      "[0.0, 1.0, 1.0, 2.0, 2.0, 3.0, 1.0, 5.0, 2.0, 23.0, 0]\n",
      "\n"
     ]
    }
   ],
   "source": [
    "w = Folder('g:/wiki/sivut')\n",
    "print(w.temp)"
   ]
  },
  {
   "cell_type": "code",
   "execution_count": 11,
   "metadata": {},
   "outputs": [],
   "source": [
    "w.xtest = w.temp + w.ulam_numbers"
   ]
  }
 ],
 "metadata": {
  "kernelspec": {
   "display_name": "Python 3",
   "language": "python",
   "name": "python3"
  },
  "language_info": {
   "codemirror_mode": {
    "name": "ipython",
    "version": 3
   },
   "file_extension": ".py",
   "mimetype": "text/x-python",
   "name": "python",
   "nbconvert_exporter": "python",
   "pygments_lexer": "ipython3",
   "version": "3.7.4"
  }
 },
 "nbformat": 4,
 "nbformat_minor": 2
}
