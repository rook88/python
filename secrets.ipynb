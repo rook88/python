{
 "cells": [
  {
   "cell_type": "code",
   "execution_count": 13,
   "metadata": {},
   "outputs": [],
   "source": [
    "# Kommitointi komentokehotteen kautta\n",
    "!start cmd "
   ]
  },
  {
   "cell_type": "code",
   "execution_count": 15,
   "metadata": {},
   "outputs": [],
   "source": [
    "# Tällä voit tarkistaa pääsalasana. Älä jätä näkyville\n",
    "# secrets.keyring.get_password('secrets', 'folder').encode()\n"
   ]
  },
  {
   "cell_type": "code",
   "execution_count": 5,
   "metadata": {},
   "outputs": [],
   "source": [
    "import secrets\n",
    "import importlib\n",
    "importlib.reload(secrets)\n",
    "\n",
    "import sys\n",
    "sys.path.append(\"../jupyter_cell_magics\")\n",
    "import jedit\n",
    "\n",
    "sec = secrets.secretsFolder(r\"C:\\Users\\jokemjaa\\OneDrive - Tieto Corporation\\secrets\")"
   ]
  },
  {
   "cell_type": "code",
   "execution_count": 10,
   "metadata": {},
   "outputs": [],
   "source": [
    "names = [x for x in sec]\n",
    "\n",
    "import json\n",
    "items = json.dumps(names)"
   ]
  },
  {
   "cell_type": "code",
   "execution_count": 11,
   "metadata": {},
   "outputs": [
    {
     "data": {
      "text/html": [
       "<p id = \"debug\"></p>\n",
       "<table id = \"mytable\"></table>\n",
       "\n",
       "<script>\n",
       "items = [\"docker_id\", \"items\", \"xjjo\", \"yjjn\"]\n",
       "\n",
       "debug = document.getElementById(\"debug\");\n",
       "mytable = document.getElementById(\"mytable\");\n",
       "\n",
       "debugTxt = \"\";\n",
       "items.forEach(myFunction);\n",
       "\n",
       "function myFunction(item, index) {\n",
       "    row = document.createElement(\"DIV\");\n",
       "    \n",
       "    button = document.createElement(\"button\");\n",
       "    button.innerHTML = item;\n",
       "    button.onclick = genClicked(item);\n",
       "    row.appendChild(button);\n",
       "    \n",
       "    mytable.appendChild(row);\n",
       "}\n",
       "\n",
       "function genClicked (item) {\n",
       "    function buttonClick(e) {\n",
       "        cmd = \"secrets.toClipboard(sec['\" + item + \"'])\"\n",
       "        debug.innerHTML = cmd\n",
       "        IPython.notebook.kernel.execute(cmd);\n",
       "    }\n",
       "    return buttonClick;\n",
       "}\n",
       "// alert(dfm[0])\n",
       "</script>"
      ],
      "text/plain": [
       "<IPython.core.display.HTML object>"
      ]
     },
     "metadata": {},
     "output_type": "display_data"
    }
   ],
   "source": [
    "%%jedit -m -h\n",
    "<p id = \"debug\"></p>\n",
    "<table id = \"mytable\"></table>\n",
    "\n",
    "<script>\n",
    "items = {{ items }}\n",
    "\n",
    "debug = document.getElementById(\"debug\");\n",
    "mytable = document.getElementById(\"mytable\");\n",
    "\n",
    "debugTxt = \"\";\n",
    "items.forEach(myFunction);\n",
    "\n",
    "function myFunction(item, index) {\n",
    "    row = document.createElement(\"DIV\");\n",
    "    \n",
    "    button = document.createElement(\"button\");\n",
    "    button.innerHTML = item;\n",
    "    button.onclick = genClicked(item);\n",
    "    row.appendChild(button);\n",
    "    \n",
    "    mytable.appendChild(row);\n",
    "}\n",
    "\n",
    "function genClicked (item) {\n",
    "    function buttonClick(e) {\n",
    "        cmd = \"secrets.toClipboard(sec['\" + item + \"'])\"\n",
    "        debug.innerHTML = cmd\n",
    "        IPython.notebook.kernel.execute(cmd);\n",
    "    }\n",
    "    return buttonClick;\n",
    "}\n",
    "// alert(dfm[0])\n",
    "</script>"
   ]
  }
 ],
 "metadata": {
  "kernelspec": {
   "display_name": "Python 3",
   "language": "python",
   "name": "python3"
  },
  "language_info": {
   "codemirror_mode": {
    "name": "ipython",
    "version": 3
   },
   "file_extension": ".py",
   "mimetype": "text/x-python",
   "name": "python",
   "nbconvert_exporter": "python",
   "pygments_lexer": "ipython3",
   "version": "3.7.7"
  }
 },
 "nbformat": 4,
 "nbformat_minor": 4
}
