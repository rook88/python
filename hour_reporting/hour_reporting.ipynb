{
 "cells": [
  {
   "cell_type": "code",
   "execution_count": 4,
   "id": "e4bfae91",
   "metadata": {},
   "outputs": [],
   "source": [
    "import datetime\n",
    "import sys\n",
    "import os\n",
    "\n",
    "import requests\n",
    "import json\n",
    "\n",
    "import jaydebeapi\n",
    "\n",
    "from piccolo.table import Table\n",
    "from piccolo.columns import Varchar, Integer, Timestamp\n",
    "\n"
   ]
  },
  {
   "cell_type": "code",
   "execution_count": 28,
   "id": "6f68e907",
   "metadata": {},
   "outputs": [
    {
     "name": "stdout",
     "output_type": "stream",
     "text": [
      "[0.002s][warning][os,thread] Attempt to protect stack guard pages failed (0x000000016cf1c000-0x000000016cf28000).\n",
      "[0.002s][warning][os,thread] Attempt to deallocate stack guard pages failed.\n"
     ]
    }
   ],
   "source": [
    "\n",
    "sys.path.append('../../jupyter_cell_magics')\n",
    "\n",
    "import jflask\n",
    "import jsql_dev as jsql\n",
    "import jedit\n",
    "\n",
    "jar_folder = os.environ['SQL_JARS']\n",
    "jar_files = [os.path.join(jar_folder, jar_file) for jar_file in os.listdir(jar_folder)]\n",
    "my_conn = jsql.Connection('my_conn', jaydebeapi.connect, *[\"org.postgresql.Driver\",\n",
    "                          \"jdbc:postgresql://localhost:5432/my_app\",\n",
    "                          [\"postgres\", \"pwdPostgreSQL\"], \n",
    "                            jar_files\n",
    "                          ,], verbose = False, keep_closed = False)\n",
    "\n",
    "my_conn.open()\n",
    "my_conn.connection.jconn.setAutoCommit(False)"
   ]
  },
  {
   "cell_type": "code",
   "execution_count": 61,
   "id": "f68d36c0",
   "metadata": {},
   "outputs": [
    {
     "data": {
      "text/plain": [
       "True"
      ]
     },
     "execution_count": 61,
     "metadata": {},
     "output_type": "execute_result"
    },
    {
     "name": "stdout",
     "output_type": "stream",
     "text": [
      "going to ping...\n"
     ]
    },
    {
     "name": "stderr",
     "output_type": "stream",
     "text": [
      "127.0.0.1 - - [13/Oct/2021 19:49:39] \"GET /ping HTTP/1.1\" 200 -\n",
      "127.0.0.1 - - [13/Oct/2021 19:49:39] \"GET /favicon.ico HTTP/1.1\" 404 -\n"
     ]
    }
   ],
   "source": [
    "import webbrowser\n",
    "url = 'http://localhost:5000/ping'\n",
    "webbrowser.open_new_tab(url)\n"
   ]
  },
  {
   "cell_type": "code",
   "execution_count": 3,
   "id": "7b655773",
   "metadata": {},
   "outputs": [],
   "source": [
    "r = requests.post('http://localhost:5000/ping')"
   ]
  },
  {
   "cell_type": "code",
   "execution_count": 6,
   "id": "852111a6",
   "metadata": {},
   "outputs": [
    {
     "data": {
      "text/plain": [
       "{'some': 'data'}"
      ]
     },
     "execution_count": 6,
     "metadata": {},
     "output_type": "execute_result"
    }
   ],
   "source": [
    "r.json()"
   ]
  },
  {
   "cell_type": "code",
   "execution_count": 1,
   "id": "6862a1bf",
   "metadata": {},
   "outputs": [
    {
     "name": "stdout",
     "output_type": "stream",
     "text": [
      "Overwriting piccolo_conf.py\n"
     ]
    }
   ],
   "source": [
    "%%writefile piccolo_conf.py\n",
    "# piccolo_conf.py\n",
    "from piccolo.engine.postgres import PostgresEngine\n",
    "\n",
    "\n",
    "DB = PostgresEngine(config={\n",
    "    'host': 'localhost',\n",
    "    'database': 'my_app',\n",
    "    'user': 'postgres',\n",
    "    'password': 'pwdPostgreSQL'\n",
    "})"
   ]
  },
  {
   "cell_type": "code",
   "execution_count": 15,
   "id": "4bd5476a",
   "metadata": {},
   "outputs": [],
   "source": [
    "class time_log(Table):\n",
    "    jira_id = Varchar(length=20)\n",
    "    description = Varchar(length=400) \n",
    "    log_time = Timestamp()\n",
    "    \n",
    "#time_log.create_table().run_sync()\n"
   ]
  },
  {
   "cell_type": "code",
   "execution_count": 16,
   "id": "48c33ed5",
   "metadata": {},
   "outputs": [
    {
     "data": {
      "text/plain": [
       "[{'id': 1,\n",
       "  'jira_id': 'test_ticket',\n",
       "  'description': 'test',\n",
       "  'log_time': datetime.datetime(2021, 10, 19, 19, 27, 15, 70704)},\n",
       " {'id': 2,\n",
       "  'jira_id': 'test_ticket',\n",
       "  'description': 'test',\n",
       "  'log_time': datetime.datetime(2021, 10, 19, 19, 27, 19, 574387)},\n",
       " {'id': 3,\n",
       "  'jira_id': 'ABC-2',\n",
       "  'description': '',\n",
       "  'log_time': datetime.datetime(2021, 10, 19, 19, 27, 31, 302530)},\n",
       " {'id': 4,\n",
       "  'jira_id': 'ABC-2',\n",
       "  'description': '',\n",
       "  'log_time': datetime.datetime(2021, 10, 19, 19, 27, 59, 612246)},\n",
       " {'id': 5,\n",
       "  'jira_id': 'ABC-2',\n",
       "  'description': '',\n",
       "  'log_time': datetime.datetime(2021, 10, 19, 19, 28, 54, 432035)},\n",
       " {'id': 6,\n",
       "  'jira_id': 'ABC-1',\n",
       "  'description': '',\n",
       "  'log_time': datetime.datetime(2021, 10, 19, 19, 34, 55, 856497)},\n",
       " {'id': 7,\n",
       "  'jira_id': 'ABC-1',\n",
       "  'description': '',\n",
       "  'log_time': datetime.datetime(2021, 10, 19, 19, 35, 19, 281902)},\n",
       " {'id': 8,\n",
       "  'jira_id': 'ABC-2',\n",
       "  'description': '',\n",
       "  'log_time': datetime.datetime(2021, 10, 19, 19, 35, 22, 613543)},\n",
       " {'id': 9,\n",
       "  'jira_id': 'ABC-3',\n",
       "  'description': '',\n",
       "  'log_time': datetime.datetime(2021, 10, 19, 19, 35, 25, 560551)},\n",
       " {'id': 10,\n",
       "  'jira_id': 'ABC-2',\n",
       "  'description': 'unit test',\n",
       "  'log_time': datetime.datetime(2021, 10, 19, 19, 48, 32, 890244)},\n",
       " {'id': 11,\n",
       "  'jira_id': 'ABC-2',\n",
       "  'description': 'unit test',\n",
       "  'log_time': datetime.datetime(2021, 10, 19, 19, 56, 53, 397141)},\n",
       " {'id': 12,\n",
       "  'jira_id': 'ABC-2',\n",
       "  'description': 'unit test',\n",
       "  'log_time': datetime.datetime(2021, 10, 19, 19, 57, 15, 54151)},\n",
       " {'id': 13,\n",
       "  'jira_id': 'ABC-2',\n",
       "  'description': 'unit test',\n",
       "  'log_time': datetime.datetime(2021, 10, 19, 19, 59, 8, 413544)},\n",
       " {'id': 14,\n",
       "  'jira_id': 'ABC-2',\n",
       "  'description': '',\n",
       "  'log_time': datetime.datetime(2021, 10, 19, 20, 14, 43, 232431)},\n",
       " {'id': 15,\n",
       "  'jira_id': 'ABC-3',\n",
       "  'description': '',\n",
       "  'log_time': datetime.datetime(2021, 10, 19, 20, 23, 28, 4460)},\n",
       " {'id': 16,\n",
       "  'jira_id': 'ABC-2',\n",
       "  'description': '',\n",
       "  'log_time': datetime.datetime(2021, 10, 19, 20, 23, 29, 310725)},\n",
       " {'id': 17,\n",
       "  'jira_id': 'ABC-3',\n",
       "  'description': '',\n",
       "  'log_time': datetime.datetime(2021, 10, 20, 18, 23, 25, 86687)},\n",
       " {'id': 18,\n",
       "  'jira_id': 'ABC-2',\n",
       "  'description': '',\n",
       "  'log_time': datetime.datetime(2021, 10, 20, 18, 23, 29, 676393)},\n",
       " {'id': 19,\n",
       "  'jira_id': 'ABC-2',\n",
       "  'description': '',\n",
       "  'log_time': datetime.datetime(2021, 10, 20, 18, 29, 34, 683590)},\n",
       " {'id': 20,\n",
       "  'jira_id': 'ABC-3',\n",
       "  'description': '',\n",
       "  'log_time': datetime.datetime(2021, 10, 20, 18, 30, 50, 425769)},\n",
       " {'id': 21,\n",
       "  'jira_id': 'ABC-3',\n",
       "  'description': '',\n",
       "  'log_time': datetime.datetime(2021, 10, 20, 18, 30, 55, 549520)},\n",
       " {'id': 22,\n",
       "  'jira_id': 'NEW',\n",
       "  'description': 'nil',\n",
       "  'log_time': datetime.datetime(2021, 10, 20, 18, 36, 1, 65182)},\n",
       " {'id': 23,\n",
       "  'jira_id': 'ABC-2',\n",
       "  'description': 'unit test',\n",
       "  'log_time': datetime.datetime(2021, 10, 20, 19, 4, 47, 808761)},\n",
       " {'id': 24,\n",
       "  'jira_id': 'ABC-2',\n",
       "  'description': '',\n",
       "  'log_time': datetime.datetime(2021, 10, 20, 19, 5, 17, 918433)},\n",
       " {'id': 25,\n",
       "  'jira_id': 'ABC-1',\n",
       "  'description': '',\n",
       "  'log_time': datetime.datetime(2021, 10, 20, 19, 5, 19, 340260)},\n",
       " {'id': 26,\n",
       "  'jira_id': 'ABC-2',\n",
       "  'description': '',\n",
       "  'log_time': datetime.datetime(2021, 10, 20, 19, 5, 21, 892060)},\n",
       " {'id': 27,\n",
       "  'jira_id': 'ABC-3',\n",
       "  'description': '',\n",
       "  'log_time': datetime.datetime(2021, 10, 20, 19, 5, 26, 99460)},\n",
       " {'id': 28,\n",
       "  'jira_id': 'ABC-2',\n",
       "  'description': 'unit test',\n",
       "  'log_time': datetime.datetime(2021, 10, 20, 19, 7, 40, 625005)},\n",
       " {'id': 29,\n",
       "  'jira_id': 'ABC-2',\n",
       "  'description': 'unit test',\n",
       "  'log_time': datetime.datetime(2021, 10, 20, 19, 7, 48, 886022)},\n",
       " {'id': 30,\n",
       "  'jira_id': 'ABC-2',\n",
       "  'description': 'unit test',\n",
       "  'log_time': datetime.datetime(2021, 10, 20, 19, 8, 31, 19732)},\n",
       " {'id': 31,\n",
       "  'jira_id': 'ABC-2',\n",
       "  'description': 'unit test',\n",
       "  'log_time': datetime.datetime(2021, 10, 20, 19, 8, 52, 922134)},\n",
       " {'id': 32,\n",
       "  'jira_id': 'UNIT-A',\n",
       "  'description': 'unit test',\n",
       "  'log_time': datetime.datetime(2021, 10, 20, 19, 9, 18, 449731)},\n",
       " {'id': 33,\n",
       "  'jira_id': 'ABC-3',\n",
       "  'description': '',\n",
       "  'log_time': datetime.datetime(2021, 10, 20, 19, 9, 39, 686269)},\n",
       " {'id': 34,\n",
       "  'jira_id': 'ABC-1',\n",
       "  'description': '',\n",
       "  'log_time': datetime.datetime(2021, 10, 20, 19, 9, 42, 70563)},\n",
       " {'id': 35,\n",
       "  'jira_id': 'ABC-3',\n",
       "  'description': '',\n",
       "  'log_time': datetime.datetime(2021, 10, 20, 19, 10, 26, 687602)},\n",
       " {'id': 36,\n",
       "  'jira_id': 'ABC-3',\n",
       "  'description': '',\n",
       "  'log_time': datetime.datetime(2021, 10, 20, 19, 10, 26, 912868)},\n",
       " {'id': 37,\n",
       "  'jira_id': 'ABC-2',\n",
       "  'description': '',\n",
       "  'log_time': datetime.datetime(2021, 10, 20, 19, 12, 48, 769639)},\n",
       " {'id': 38,\n",
       "  'jira_id': 'ABC-2',\n",
       "  'description': '',\n",
       "  'log_time': datetime.datetime(2021, 10, 20, 19, 13, 21, 290903)},\n",
       " {'id': 39,\n",
       "  'jira_id': 'ABC-3',\n",
       "  'description': '',\n",
       "  'log_time': datetime.datetime(2021, 10, 20, 19, 13, 22, 687997)},\n",
       " {'id': 40,\n",
       "  'jira_id': 'ABC-1',\n",
       "  'description': '',\n",
       "  'log_time': datetime.datetime(2021, 10, 20, 19, 13, 24, 4587)},\n",
       " {'id': 41,\n",
       "  'jira_id': 'ABC-2',\n",
       "  'description': '',\n",
       "  'log_time': datetime.datetime(2021, 10, 20, 19, 13, 27, 71167)},\n",
       " {'id': 42,\n",
       "  'jira_id': 'ABC-3',\n",
       "  'description': '',\n",
       "  'log_time': datetime.datetime(2021, 10, 20, 19, 13, 27, 794477)},\n",
       " {'id': 43,\n",
       "  'jira_id': 'ABC-1',\n",
       "  'description': '',\n",
       "  'log_time': datetime.datetime(2021, 10, 20, 19, 15, 40, 436849)},\n",
       " {'id': 44,\n",
       "  'jira_id': 'ABC-2',\n",
       "  'description': '',\n",
       "  'log_time': datetime.datetime(2021, 10, 20, 19, 15, 41, 597184)},\n",
       " {'id': 45,\n",
       "  'jira_id': 'ABC-3',\n",
       "  'description': '',\n",
       "  'log_time': datetime.datetime(2021, 10, 20, 19, 16, 27, 512216)},\n",
       " {'id': 46,\n",
       "  'jira_id': 'ABC-2',\n",
       "  'description': '',\n",
       "  'log_time': datetime.datetime(2021, 10, 20, 19, 16, 34, 101285)},\n",
       " {'id': 47,\n",
       "  'jira_id': 'ABC-3',\n",
       "  'description': '',\n",
       "  'log_time': datetime.datetime(2021, 10, 20, 22, 9, 50, 532323)},\n",
       " {'id': 48,\n",
       "  'jira_id': 'ABC-1',\n",
       "  'description': '',\n",
       "  'log_time': datetime.datetime(2021, 10, 20, 22, 9, 52, 531878)},\n",
       " {'id': 49,\n",
       "  'jira_id': 'ABC-2',\n",
       "  'description': '',\n",
       "  'log_time': datetime.datetime(2021, 10, 20, 22, 9, 54, 195637)},\n",
       " {'id': 50,\n",
       "  'jira_id': 'NEW',\n",
       "  'description': 'nil',\n",
       "  'log_time': datetime.datetime(2021, 10, 21, 18, 1, 44, 628405)},\n",
       " {'id': 51,\n",
       "  'jira_id': 'ABC-3',\n",
       "  'description': '',\n",
       "  'log_time': datetime.datetime(2021, 10, 21, 18, 1, 46, 192425)},\n",
       " {'id': 52,\n",
       "  'jira_id': 'ABC-2',\n",
       "  'description': '',\n",
       "  'log_time': datetime.datetime(2021, 10, 21, 18, 1, 47, 559458)},\n",
       " {'id': 53,\n",
       "  'jira_id': 'NEW',\n",
       "  'description': 'nil',\n",
       "  'log_time': datetime.datetime(2021, 10, 21, 18, 1, 49, 326036)},\n",
       " {'id': 54,\n",
       "  'jira_id': 'sss',\n",
       "  'description': '',\n",
       "  'log_time': datetime.datetime(2021, 10, 21, 18, 9, 13, 186926)},\n",
       " {'id': 55,\n",
       "  'jira_id': 'ssss',\n",
       "  'description': '',\n",
       "  'log_time': datetime.datetime(2021, 10, 21, 18, 9, 20, 324017)},\n",
       " {'id': 56,\n",
       "  'jira_id': 'ss',\n",
       "  'description': 'nil',\n",
       "  'log_time': datetime.datetime(2021, 10, 21, 18, 13, 0, 458408)},\n",
       " {'id': 58,\n",
       "  'jira_id': 'UNIT-A',\n",
       "  'description': 'unit test',\n",
       "  'log_time': datetime.datetime(2021, 10, 21, 18, 17, 20, 67844)},\n",
       " {'id': 59,\n",
       "  'jira_id': 'ABC-2',\n",
       "  'description': '',\n",
       "  'log_time': datetime.datetime(2021, 10, 21, 18, 21, 38, 169786)},\n",
       " {'id': 60,\n",
       "  'jira_id': 'ABC-3',\n",
       "  'description': 'sss',\n",
       "  'log_time': datetime.datetime(2021, 10, 21, 18, 45, 33, 424804)},\n",
       " {'id': 61,\n",
       "  'jira_id': 'ABC-2',\n",
       "  'description': 'qqq',\n",
       "  'log_time': datetime.datetime(2021, 10, 21, 18, 46, 9, 7495)},\n",
       " {'id': 62,\n",
       "  'jira_id': 'UUSI-1',\n",
       "  'description': 'akkaa',\n",
       "  'log_time': datetime.datetime(2021, 10, 21, 18, 46, 18, 348403)},\n",
       " {'id': 63,\n",
       "  'jira_id': 'ABC-2',\n",
       "  'description': 'ookoo',\n",
       "  'log_time': datetime.datetime(2021, 10, 21, 18, 49, 32, 628658)},\n",
       " {'id': 64,\n",
       "  'jira_id': 'ABC-3',\n",
       "  'description': '',\n",
       "  'log_time': datetime.datetime(2021, 10, 21, 18, 59, 39, 286312)},\n",
       " {'id': 65,\n",
       "  'jira_id': 'ABC-2',\n",
       "  'description': '',\n",
       "  'log_time': datetime.datetime(2021, 10, 21, 19, 0, 9, 527728)},\n",
       " {'id': 66,\n",
       "  'jira_id': 'ABC-2',\n",
       "  'description': '',\n",
       "  'log_time': datetime.datetime(2021, 10, 21, 19, 0, 43, 534840)},\n",
       " {'id': 67,\n",
       "  'jira_id': 'UNIT-A',\n",
       "  'description': '',\n",
       "  'log_time': datetime.datetime(2021, 10, 21, 19, 0, 57, 591279)},\n",
       " {'id': 68,\n",
       "  'jira_id': 'UUSI-2',\n",
       "  'description': 'No vähän kaikkea',\n",
       "  'log_time': datetime.datetime(2021, 10, 21, 19, 1, 12, 697145)},\n",
       " {'id': 69,\n",
       "  'jira_id': 'UUSI-1',\n",
       "  'description': 'aa',\n",
       "  'log_time': datetime.datetime(2021, 10, 21, 21, 50, 14, 980370)},\n",
       " {'id': 70,\n",
       "  'jira_id': 'ssss',\n",
       "  'description': '',\n",
       "  'log_time': datetime.datetime(2021, 10, 21, 21, 50, 21, 896186)}]"
      ]
     },
     "execution_count": 16,
     "metadata": {},
     "output_type": "execute_result"
    }
   ],
   "source": [
    "time_log.select().run_sync()"
   ]
  },
  {
   "cell_type": "code",
   "execution_count": 17,
   "id": "a8335de0",
   "metadata": {},
   "outputs": [],
   "source": [
    "# starting docker\n",
    "#!docker start myPostgreSQL\n",
    "#!docker ps -a"
   ]
  },
  {
   "cell_type": "code",
   "execution_count": 18,
   "id": "b43166b6",
   "metadata": {},
   "outputs": [],
   "source": [
    "class task(Table):\n",
    "    jira_id = Varchar(length=20)\n",
    "    name = Varchar(length=50)\n",
    "    description = Varchar(length=200)\n",
    "    project = Varchar(length=40)\n",
    "    last_used = Timestamp(null=True)\n",
    "    closed = Timestamp(null=True)\n",
    "\n",
    "#task.create_table().run_sync()"
   ]
  },
  {
   "cell_type": "code",
   "execution_count": 7,
   "id": "b3ee206f",
   "metadata": {},
   "outputs": [],
   "source": [
    "task_import_example = \"\"\"\n",
    "ABC-1;task 1;;project A\n",
    "ABC-2;task 2;;project A\n",
    "ABC-3;task 3;;project B\n",
    "\"\"\""
   ]
  },
  {
   "cell_type": "code",
   "execution_count": 8,
   "id": "98cfdf2c",
   "metadata": {},
   "outputs": [],
   "source": [
    "task_keys = ['jira_id', 'name', 'description', 'project']"
   ]
  },
  {
   "cell_type": "code",
   "execution_count": 13,
   "id": "a94cfe9f",
   "metadata": {},
   "outputs": [
    {
     "data": {
      "text/plain": [
       "[['ABC-1', 'task 1', '', 'project A'],\n",
       " ['ABC-2', 'task 2', '', 'project A'],\n",
       " ['ABC-3', 'task 3', '', 'project B']]"
      ]
     },
     "execution_count": 13,
     "metadata": {},
     "output_type": "execute_result"
    }
   ],
   "source": [
    "task_data_rows = [r.split(';') for r in task_import_example.split('\\n') if ';'in r]\n",
    "task_data_rows"
   ]
  },
  {
   "cell_type": "code",
   "execution_count": 37,
   "id": "17e33416",
   "metadata": {},
   "outputs": [],
   "source": [
    "for task_data in task_data_rows:\n",
    "    task_dict = dict(zip(task_keys, task_data))\n",
    "    task.insert(task(**task_dict, last_used=None, closed=None)).run_sync()"
   ]
  },
  {
   "cell_type": "code",
   "execution_count": 38,
   "id": "b51d7992",
   "metadata": {},
   "outputs": [
    {
     "data": {
      "text/plain": [
       "[{'id': 1,\n",
       "  'jira_id': 'ABC-1',\n",
       "  'name': 'task 1',\n",
       "  'description': '',\n",
       "  'project': 'project A',\n",
       "  'last_used': None,\n",
       "  'closed': None},\n",
       " {'id': 2,\n",
       "  'jira_id': 'ABC-2',\n",
       "  'name': 'task 2',\n",
       "  'description': '',\n",
       "  'project': 'project A',\n",
       "  'last_used': None,\n",
       "  'closed': None},\n",
       " {'id': 3,\n",
       "  'jira_id': 'ABC-3',\n",
       "  'name': 'task 3',\n",
       "  'description': '',\n",
       "  'project': 'project B',\n",
       "  'last_used': None,\n",
       "  'closed': None}]"
      ]
     },
     "execution_count": 38,
     "metadata": {},
     "output_type": "execute_result"
    }
   ],
   "source": [
    "task.select().run_sync()"
   ]
  },
  {
   "cell_type": "code",
   "execution_count": 35,
   "id": "98470d33",
   "metadata": {},
   "outputs": [
    {
     "name": "stdout",
     "output_type": "stream",
     "text": [
      "COMMIT\n"
     ]
    },
    {
     "data": {
      "text/plain": [
       "[0]"
      ]
     },
     "execution_count": 35,
     "metadata": {},
     "output_type": "execute_result"
    }
   ],
   "source": [
    "%%alter conn --commit\n",
    "drop table task;"
   ]
  },
  {
   "cell_type": "code",
   "execution_count": 75,
   "id": "99bd2d3a",
   "metadata": {},
   "outputs": [
    {
     "name": "stdout",
     "output_type": "stream",
     "text": [
      "COMMIT\n"
     ]
    },
    {
     "data": {
      "text/plain": [
       "[0]"
      ]
     },
     "execution_count": 75,
     "metadata": {},
     "output_type": "execute_result"
    }
   ],
   "source": [
    "%%alter conn --commit\n",
    "drop table time_log;"
   ]
  },
  {
   "cell_type": "code",
   "execution_count": 19,
   "id": "db144435",
   "metadata": {},
   "outputs": [
    {
     "data": {
      "text/plain": [
       "'{\"tasks\": [{\"id\": 1, \"jira_id\": \"ABC-1\", \"name\": \"task 1\", \"description\": \"\", \"project\": \"project A\", \"last_used\": null, \"closed\": null}, {\"id\": 2, \"jira_id\": \"ABC-2\", \"name\": \"task 2\", \"description\": \"\", \"project\": \"project A\", \"last_used\": null, \"closed\": null}, {\"id\": 3, \"jira_id\": \"ABC-3\", \"name\": \"task 3\", \"description\": \"\", \"project\": \"project B\", \"last_used\": null, \"closed\": null}]}'"
      ]
     },
     "execution_count": 19,
     "metadata": {},
     "output_type": "execute_result"
    }
   ],
   "source": [
    "def get_tasks(closed=False):\n",
    "    ret = {}\n",
    "    ret['tasks'] = task.select().run_sync()\n",
    "    return json.dumps(ret)\n",
    "get_tasks()"
   ]
  },
  {
   "cell_type": "code",
   "execution_count": 22,
   "id": "180dcb2c",
   "metadata": {},
   "outputs": [
    {
     "name": "stdout",
     "output_type": "stream",
     "text": [
      "Stopping app\n",
      "Starting app\n",
      " * Serving Flask app 'appi' (lazy loading)\n",
      " * Environment: production\n",
      "   WARNING: This is a development server. Do not use it in a production deployment.\n",
      "   Use a production WSGI server instead.\n",
      " * Debug mode: off\n"
     ]
    },
    {
     "name": "stderr",
     "output_type": "stream",
     "text": [
      " * Running on http://127.0.0.1:5000/ (Press CTRL+C to quit)\n"
     ]
    }
   ],
   "source": [
    "my_app = jflask.FlaskApp(\"appi\")\n",
    "my_app.run()"
   ]
  },
  {
   "cell_type": "code",
   "execution_count": 23,
   "id": "6f631c16",
   "metadata": {},
   "outputs": [
    {
     "name": "stdout",
     "output_type": "stream",
     "text": [
      "Pinging\n"
     ]
    },
    {
     "name": "stderr",
     "output_type": "stream",
     "text": [
      "127.0.0.1 - - [25/Oct/2021 18:29:37] \"GET / HTTP/1.1\" 200 -\n"
     ]
    },
    {
     "data": {
      "text/plain": [
       "b'appi running'"
      ]
     },
     "execution_count": 23,
     "metadata": {},
     "output_type": "execute_result"
    }
   ],
   "source": [
    "#my_app.stop()\n",
    "my_app.ping()"
   ]
  },
  {
   "cell_type": "code",
   "execution_count": 34,
   "id": "9ed1b615",
   "metadata": {},
   "outputs": [
    {
     "name": "stderr",
     "output_type": "stream",
     "text": [
      "127.0.0.1 - - [25/Oct/2021 18:37:02] \"GET /get_tasks HTTP/1.1\" 200 -\n"
     ]
    },
    {
     "data": {
      "text/plain": [
       "{'tasks': [{'jira_id': 'test_ticket'},\n",
       "  {'jira_id': 'UNIT-A'},\n",
       "  {'jira_id': 'UUSI-2'},\n",
       "  {'jira_id': 'ssss'},\n",
       "  {'jira_id': 'ABC-3'},\n",
       "  {'jira_id': 'NEW'},\n",
       "  {'jira_id': 'ABC-1'},\n",
       "  {'jira_id': 'sss'},\n",
       "  {'jira_id': 'ss'},\n",
       "  {'jira_id': 'ABC-2'},\n",
       "  {'jira_id': 'UUSI-1'}]}"
      ]
     },
     "execution_count": 34,
     "metadata": {},
     "output_type": "execute_result"
    }
   ],
   "source": [
    "def get_tasks():\n",
    "    ret = {}\n",
    "    time_logs = time_log.select().run_sync()\n",
    "    ret['tasks'] = [{'jira_id' : jira_id} for jira_id in set([l['jira_id'] for l in time_logs])]\n",
    "    return json.dumps(ret)\n",
    "get_tasks()\n",
    "    \n",
    "\n",
    "my_app.addMethodFlush('/get_tasks', get_tasks)\n",
    "\n",
    "r = requests.get('http://localhost:5000/get_tasks')\n",
    "r.json()"
   ]
  },
  {
   "cell_type": "code",
   "execution_count": 36,
   "id": "7c1d29ad",
   "metadata": {},
   "outputs": [],
   "source": [
    "insert_log_test_data = json.loads(insert_log_test_json)\n",
    "def insert_log(data_json):\n",
    "    data = json.loads(data_json)\n",
    "    jira_id = data['jira_id']\n",
    "    description = data['description']\n",
    "    ret = time_log.insert(time_log(description=description, jira_id=jira_id, log_time=datetime.datetime.now())).run_sync()\n",
    "    return json.dumps(ret)\n",
    "\n",
    "my_app.addPostMethod(\"/insert_log\", insert_log)"
   ]
  },
  {
   "cell_type": "code",
   "execution_count": null,
   "id": "8abe4f72",
   "metadata": {},
   "outputs": [],
   "source": [
    "insert_log_test_json = \"\"\"\n",
    "{\"id\":2,\"jira_id\":\"ABC-2\",\"name\":\"task 2\",\"description\":\"\",\"project\":\"project A\",\"last_used\":null,\"closed\":null}\n",
    "\"\"\"\n",
    "insert_log(insert_log_test_json)"
   ]
  },
  {
   "cell_type": "code",
   "execution_count": 37,
   "id": "2a92fe2a",
   "metadata": {},
   "outputs": [
    {
     "name": "stdout",
     "output_type": "stream",
     "text": [
      "response_json = [{\"id\": 73}]\n",
      "response = <Response 17 bytes [200 OK]>\n"
     ]
    },
    {
     "name": "stderr",
     "output_type": "stream",
     "text": [
      "127.0.0.1 - - [25/Oct/2021 18:37:55] \"POST /insert_log HTTP/1.1\" 200 -\n"
     ]
    }
   ],
   "source": [
    "r = requests.post('http://localhost:5000/insert_log', data = insert_log_test_json)"
   ]
  },
  {
   "cell_type": "code",
   "execution_count": null,
   "id": "c7308842",
   "metadata": {},
   "outputs": [],
   "source": [
    "def get_logs():\n",
    "    ret = {}\n",
    "    ret['logs'] = time_log.select().order_by(time_log.log_time, ascending=False).run_sync()\n",
    "    return json.dumps(ret, default=str)\n",
    "\n",
    "logs = get_logs()\n",
    "\n",
    "my_app.addMethodFlush('/get_logs', get_logs)\n",
    "\n",
    "r = requests.get('http://localhost:5000/get_logs')\n",
    "\n",
    "r.json()"
   ]
  },
  {
   "cell_type": "code",
   "execution_count": 40,
   "id": "ec1dd188",
   "metadata": {},
   "outputs": [
    {
     "data": {
      "text/html": [
       "<button onclick=\"test_insert()\">insert_log</button>\n",
       "<table id=\"logs\"></table>\n",
       "\n",
       "<script src=\"insert_log.js\"></script>\n",
       "\n",
       "<script>\n",
       "function test_insert() {\n",
       "    test_data = JSON.parse('{\"jira_id\":\"UNIT-A\", \"description\":\"unit test\"}')\n",
       "    insert_log(test_data)\n",
       "    refresh_logs()\n",
       "}\n",
       "</script>"
      ],
      "text/plain": [
       "<IPython.core.display.HTML object>"
      ]
     },
     "metadata": {},
     "output_type": "display_data"
    },
    {
     "name": "stderr",
     "output_type": "stream",
     "text": [
      "127.0.0.1 - - [25/Oct/2021 18:40:55] \"OPTIONS /insert_log HTTP/1.1\" 200 -\n"
     ]
    },
    {
     "name": "stdout",
     "output_type": "stream",
     "text": [
      "response_json = [{\"id\": 74}]\n",
      "response = <Response 17 bytes [200 OK]>\n"
     ]
    },
    {
     "name": "stderr",
     "output_type": "stream",
     "text": [
      "127.0.0.1 - - [25/Oct/2021 18:40:55] \"POST /insert_log HTTP/1.1\" 200 -\n"
     ]
    }
   ],
   "source": [
    "%%jedit -h -w test_insert_log.html\n",
    "<button onclick=\"test_insert()\">insert_log</button>\n",
    "<table id=\"logs\"></table>\n",
    "\n",
    "<script src=\"insert_log.js\"></script>\n",
    "\n",
    "<script>\n",
    "function test_insert() {\n",
    "    test_data = JSON.parse('{\"jira_id\":\"UNIT-A\", \"description\":\"unit test\"}')\n",
    "    insert_log(test_data)\n",
    "    refresh_logs()\n",
    "}\n",
    "</script>"
   ]
  },
  {
   "cell_type": "code",
   "execution_count": 41,
   "id": "384fb291",
   "metadata": {},
   "outputs": [
    {
     "name": "stdout",
     "output_type": "stream",
     "text": [
      "Opening page file:////Users/rook/Documents/github/python/hour_reporting/temp.html in the browser\n"
     ]
    },
    {
     "name": "stderr",
     "output_type": "stream",
     "text": [
      "127.0.0.1 - - [25/Oct/2021 18:41:08] \"OPTIONS /insert_log HTTP/1.1\" 200 -\n"
     ]
    },
    {
     "name": "stdout",
     "output_type": "stream",
     "text": [
      "response_json = [{\"id\": 75}]\n",
      "response = <Response 17 bytes [200 OK]>\n"
     ]
    },
    {
     "name": "stderr",
     "output_type": "stream",
     "text": [
      "127.0.0.1 - - [25/Oct/2021 18:41:08] \"POST /insert_log HTTP/1.1\" 200 -\n"
     ]
    }
   ],
   "source": [
    "%%jedit -w insert_log.js -t test_insert_log.html -o temp.html\n",
    "function insert_log(data) {\n",
    "var insert_log_url = \"http://localhost:5000/insert_log\";\n",
    "var xhr = new XMLHttpRequest();\n",
    "xhr.open(\"POST\", insert_log_url, false);\n",
    "xhr.setRequestHeader(\"Accept\", \"application/json\");\n",
    "xhr.setRequestHeader(\"Content-Type\", \"application/json\");\n",
    "var data_json = JSON.stringify(data);\n",
    "xhr.send(data_json);\n",
    "console.log(xhr.responseText);\n",
    "\n",
    "}"
   ]
  },
  {
   "cell_type": "code",
   "execution_count": 42,
   "id": "0841d694",
   "metadata": {},
   "outputs": [
    {
     "data": {
      "text/html": [
       "<button onclick=\"test_refresh_tasks()\">test refresh tasks</button>\n",
       "<div id=\"tasks\" class=\"tasks\"></div>\n",
       "<div id=\"debug\"></div>\n",
       "\n",
       "<style>\n",
       ".tasks  {background-color: #F2E4D6;}\n",
       ".task  {background-color: #F2E4F6;}\n",
       ".task   {color: blue; float: left;}\n",
       ".task:hover {\n",
       "    cursor: pointer;\n",
       "    background-color: #D2E4F6;\n",
       "}\n",
       ".task {\n",
       "  margin: 5px 5px 5px 5px;\n",
       "}\n",
       "</style>\n",
       "\n",
       "<script src=\"tasks.js\"></script>\n",
       "\n",
       "<script>\n",
       "function test_refresh_tasks() {\n",
       "    refresh_tasks()\n",
       "}\n",
       "refresh_tasks()\n",
       "</script>"
      ],
      "text/plain": [
       "<IPython.core.display.HTML object>"
      ]
     },
     "metadata": {},
     "output_type": "display_data"
    },
    {
     "name": "stderr",
     "output_type": "stream",
     "text": [
      "127.0.0.1 - - [25/Oct/2021 18:41:21] \"OPTIONS /get_tasks HTTP/1.1\" 200 -\n",
      "127.0.0.1 - - [25/Oct/2021 18:41:21] \"GET /get_tasks HTTP/1.1\" 200 -\n",
      "127.0.0.1 - - [25/Oct/2021 18:41:24] \"GET /get_tasks HTTP/1.1\" 200 -\n"
     ]
    }
   ],
   "source": [
    "%%jedit -h -w test_tasks.html\n",
    "<button onclick=\"test_refresh_tasks()\">test refresh tasks</button>\n",
    "<div id=\"tasks\" class=\"tasks\"></div>\n",
    "<div id=\"debug\"></div>\n",
    "\n",
    "<style>\n",
    ".tasks  {background-color: #F2E4D6;}\n",
    ".task  {background-color: #F2E4F6;}\n",
    ".task   {color: blue; float: left;}\n",
    ".task:hover {\n",
    "    cursor: pointer;\n",
    "    background-color: #D2E4F6;\n",
    "}\n",
    ".task {\n",
    "  margin: 5px 5px 5px 5px;\n",
    "}\n",
    "</style>\n",
    "\n",
    "<script src=\"tasks.js\"></script>\n",
    "\n",
    "<script>\n",
    "function test_refresh_tasks() {\n",
    "    refresh_tasks()\n",
    "}\n",
    "refresh_tasks()\n",
    "</script>"
   ]
  },
  {
   "cell_type": "code",
   "execution_count": 45,
   "id": "a73de2fe",
   "metadata": {},
   "outputs": [
    {
     "name": "stdout",
     "output_type": "stream",
     "text": [
      "Opening page file:////Users/rook/Documents/github/python/hour_reporting/temp.html in the browser\n"
     ]
    },
    {
     "name": "stderr",
     "output_type": "stream",
     "text": [
      "127.0.0.1 - - [25/Oct/2021 18:42:42] \"OPTIONS /get_tasks HTTP/1.1\" 200 -\n",
      "127.0.0.1 - - [25/Oct/2021 18:42:42] \"GET /get_tasks HTTP/1.1\" 200 -\n",
      "127.0.0.1 - - [25/Oct/2021 18:42:42] \"OPTIONS /get_logs HTTP/1.1\" 200 -\n",
      "127.0.0.1 - - [25/Oct/2021 18:42:42] \"GET /get_logs HTTP/1.1\" 200 -\n",
      "127.0.0.1 - - [25/Oct/2021 18:42:46] \"OPTIONS /insert_log HTTP/1.1\" 200 -\n"
     ]
    },
    {
     "name": "stdout",
     "output_type": "stream",
     "text": [
      "response_json = [{\"id\": 77}]\n",
      "response = <Response 17 bytes [200 OK]>\n"
     ]
    },
    {
     "name": "stderr",
     "output_type": "stream",
     "text": [
      "127.0.0.1 - - [25/Oct/2021 18:42:46] \"POST /insert_log HTTP/1.1\" 200 -\n",
      "127.0.0.1 - - [25/Oct/2021 18:42:46] \"OPTIONS /get_logs HTTP/1.1\" 200 -\n",
      "127.0.0.1 - - [25/Oct/2021 18:42:46] \"GET /get_logs HTTP/1.1\" 200 -\n"
     ]
    }
   ],
   "source": [
    "%%jedit -w logs.js -t test_main.html -o temp.html\n",
    "\n",
    "function element_from_log(log) {\n",
    "//    console.log(log)\n",
    "    var log_el = document.createElement(\"tr\");\n",
    "    log_el.className = 'log';\n",
    "    var jira_id = document.createElement(\"td\");\n",
    "    jira_id.innerHTML = log['jira_id'];\n",
    "    log_el.appendChild(jira_id);\n",
    "    var description = document.createElement(\"td\");\n",
    "    description.innerHTML = log['description'];\n",
    "    log_el.append(description)\n",
    "    var log_time = document.createElement(\"td\");\n",
    "    log_time.innerHTML = log['log_time'];\n",
    "    log_el.append(log_time)\n",
    "    document.getElementById(\"logs\").appendChild(log_el)\n",
    "}\n",
    "\n",
    "function refresh_logs() {\n",
    "var url = \"http://localhost:5000/get_logs\";\n",
    "\n",
    "var xhr = new XMLHttpRequest();\n",
    "xhr.open(\"GET\", url, true);\n",
    "\n",
    "xhr.setRequestHeader(\"Accept\", \"application/json\");\n",
    "xhr.setRequestHeader(\"Content-Type\", \"application/json\");\n",
    "\n",
    "xhr.onreadystatechange = function () {\n",
    "   if (xhr.readyState === 4) {\n",
    "      console.log(xhr.status);\n",
    "       logs_response = JSON.parse(xhr.responseText);\n",
    "        logs = logs_response['logs'];\n",
    "       document.getElementById(\"logs\").innerHTML = \"\";\n",
    "        logs.forEach(element_from_log);\n",
    "\n",
    "   }};\n",
    "\n",
    "xhr.send(null);\n",
    "}\n",
    "\n"
   ]
  },
  {
   "cell_type": "code",
   "execution_count": 44,
   "id": "fb22e335",
   "metadata": {},
   "outputs": [
    {
     "data": {
      "text/html": [
       "<p>Hour logs</p>\n",
       "\n",
       "<button onclick=\"refresh_logs()\">test refresh logs</button>\n",
       "\n",
       "<table id=\"logs\"></table>\n",
       "\n",
       "<script src=\"logs.js\"></script>\n",
       "<script>\n",
       "function test_refresh_logs() {\n",
       "    refresh_logs()\n",
       "}\n",
       "refresh_logs()\n",
       "</script>"
      ],
      "text/plain": [
       "<IPython.core.display.HTML object>"
      ]
     },
     "metadata": {},
     "output_type": "display_data"
    },
    {
     "name": "stderr",
     "output_type": "stream",
     "text": [
      "127.0.0.1 - - [25/Oct/2021 18:42:15] \"OPTIONS /get_logs HTTP/1.1\" 200 -\n",
      "127.0.0.1 - - [25/Oct/2021 18:42:15] \"GET /get_logs HTTP/1.1\" 200 -\n",
      "127.0.0.1 - - [25/Oct/2021 18:42:17] \"GET /get_logs HTTP/1.1\" 200 -\n"
     ]
    }
   ],
   "source": [
    "%%jedit -h  -w test_logs.html\n",
    "<p>Hour logs</p>\n",
    "\n",
    "<button onclick=\"refresh_logs()\">test refresh logs</button>\n",
    "\n",
    "<table id=\"logs\"></table>\n",
    "\n",
    "<script src=\"logs.js\"></script>\n",
    "<script>\n",
    "function test_refresh_logs() {\n",
    "    refresh_logs()\n",
    "}\n",
    "refresh_logs()\n",
    "</script>"
   ]
  },
  {
   "cell_type": "code",
   "execution_count": 43,
   "id": "c29581b4",
   "metadata": {},
   "outputs": [
    {
     "name": "stdout",
     "output_type": "stream",
     "text": [
      "Opening page file:////Users/rook/Documents/github/python/hour_reporting/temp.html in the browser\n"
     ]
    },
    {
     "name": "stderr",
     "output_type": "stream",
     "text": [
      "127.0.0.1 - - [25/Oct/2021 18:41:40] \"OPTIONS /get_tasks HTTP/1.1\" 200 -\n",
      "127.0.0.1 - - [25/Oct/2021 18:41:40] \"GET /get_tasks HTTP/1.1\" 200 -\n",
      "127.0.0.1 - - [25/Oct/2021 18:41:40] \"OPTIONS /get_logs HTTP/1.1\" 200 -\n",
      "127.0.0.1 - - [25/Oct/2021 18:41:40] \"GET /get_logs HTTP/1.1\" 200 -\n",
      "127.0.0.1 - - [25/Oct/2021 18:41:46] \"OPTIONS /insert_log HTTP/1.1\" 200 -\n"
     ]
    },
    {
     "name": "stdout",
     "output_type": "stream",
     "text": [
      "response_json = [{\"id\": 76}]\n",
      "response = <Response 17 bytes [200 OK]>\n"
     ]
    },
    {
     "name": "stderr",
     "output_type": "stream",
     "text": [
      "127.0.0.1 - - [25/Oct/2021 18:41:46] \"POST /insert_log HTTP/1.1\" 200 -\n",
      "127.0.0.1 - - [25/Oct/2021 18:41:46] \"OPTIONS /get_logs HTTP/1.1\" 200 -\n",
      "127.0.0.1 - - [25/Oct/2021 18:41:46] \"GET /get_logs HTTP/1.1\" 200 -\n"
     ]
    }
   ],
   "source": [
    "%%jedit -w tasks.js -t test_main.html -o temp.html\n",
    "\n",
    "function element_from_task(task) {\n",
    "//    console.log(task)\n",
    "    var task_el = document.createElement(\"button\");\n",
    "    task_el.jira_id = task.jira_id\n",
    "    task_el.className = 'task';\n",
    "    var jira_id = document.createElement(\"p\");\n",
    "    jira_id.innerHTML = task['jira_id'];\n",
    "    task_el.appendChild(jira_id);\n",
    "    function task_el_onclick() {\n",
    "//        alert (this.jira_id)\n",
    "        if (this.jira_id == 'NEW') {\n",
    "            this.jira_id = prompt(\"New jira_id\");\n",
    "        }\n",
    "        this.description = prompt(\"description\");\n",
    "        insert_log(this);\n",
    "        refresh_logs();\n",
    "    }\n",
    "    task_el.onclick = task_el_onclick; \n",
    "    document.getElementById(\"tasks\").appendChild(task_el)\n",
    "}\n",
    "\n",
    "function refresh_tasks() {\n",
    "var url = \"http://localhost:5000/get_tasks\";\n",
    "var xhr = new XMLHttpRequest();\n",
    "xhr.open(\"GET\", url, false);\n",
    "xhr.setRequestHeader(\"Accept\", \"application/json\");\n",
    "xhr.setRequestHeader(\"Content-Type\", \"application/json\");\n",
    "xhr.send(null);\n",
    "tasks_response = JSON.parse(xhr.responseText);\n",
    "tasks = tasks_response['tasks'];\n",
    "document.getElementById(\"tasks\").innerHTML = \"\";\n",
    "tasks.forEach(element_from_task);\n",
    "element_from_task(JSON.parse('{ \"jira_id\":\"NEW\", \"description\":\"nil\" }'))\n",
    "};\n"
   ]
  },
  {
   "cell_type": "code",
   "execution_count": 50,
   "id": "7e2291fa",
   "metadata": {},
   "outputs": [
    {
     "name": "stdout",
     "output_type": "stream",
     "text": [
      "<h1> Pääohjelma </h1>\n",
      "\n",
      "<div id=\"tasks\"></div>\n",
      "<table id=\"logs\"></table>\n",
      "\n",
      "<script src=\"insert_log.js\"></script>\n",
      "<script src=\"tasks.js\"></script>\n",
      "<script src=\"logs.js\"></script>\n",
      "\n",
      "\n",
      "<script>\n",
      "refresh_tasks()\n",
      "refresh_logs()\n",
      "</script>\n",
      "Opening page file:////Users/rook/Documents/github/python/hour_reporting/hour_tasks_demo.html in the browser\n"
     ]
    },
    {
     "name": "stderr",
     "output_type": "stream",
     "text": [
      "127.0.0.1 - - [25/Oct/2021 18:48:47] \"OPTIONS /get_tasks HTTP/1.1\" 200 -\n",
      "127.0.0.1 - - [25/Oct/2021 18:48:47] \"GET /get_tasks HTTP/1.1\" 200 -\n",
      "127.0.0.1 - - [25/Oct/2021 18:48:47] \"OPTIONS /get_logs HTTP/1.1\" 200 -\n",
      "127.0.0.1 - - [25/Oct/2021 18:48:47] \"GET /get_logs HTTP/1.1\" 200 -\n"
     ]
    }
   ],
   "source": [
    "%%jedit -h -o hour_tasks_demo.html -w test_main.html\n",
    "<h1> Pääohjelma </h1>\n",
    "\n",
    "<div id=\"tasks\"></div>\n",
    "<table id=\"logs\"></table>\n",
    "\n",
    "<script src=\"insert_log.js\"></script>\n",
    "<script src=\"tasks.js\"></script>\n",
    "<script src=\"logs.js\"></script>\n",
    "\n",
    "\n",
    "<script>\n",
    "refresh_tasks()\n",
    "refresh_logs()\n",
    "</script>"
   ]
  },
  {
   "cell_type": "code",
   "execution_count": 51,
   "id": "c9713a8e",
   "metadata": {},
   "outputs": [
    {
     "data": {
      "text/plain": [
       "'<h1> Pääohjelma </h1>\\n\\n<div id=\"tasks\"></div>\\n<table id=\"logs\"></table>\\n\\n<script src=\"insert_log.js\"></script>\\n<script src=\"tasks.js\"></script>\\n<script src=\"logs.js\"></script>\\n\\n\\n<script>\\nrefresh_tasks()\\nrefresh_logs()\\n</script>\\n'"
      ]
     },
     "execution_count": 51,
     "metadata": {},
     "output_type": "execute_result"
    }
   ],
   "source": [
    "with open('test_main.html', 'r') as f:\n",
    "    hour_interface_html = f.read()\n",
    "hour_interface_html"
   ]
  },
  {
   "cell_type": "code",
   "execution_count": 53,
   "id": "d8790d53",
   "metadata": {},
   "outputs": [],
   "source": [
    "import webbrowser"
   ]
  },
  {
   "cell_type": "code",
   "execution_count": 54,
   "id": "c1739b73",
   "metadata": {},
   "outputs": [
    {
     "data": {
      "text/plain": [
       "True"
      ]
     },
     "execution_count": 54,
     "metadata": {},
     "output_type": "execute_result"
    },
    {
     "name": "stderr",
     "output_type": "stream",
     "text": [
      "127.0.0.1 - - [25/Oct/2021 18:49:22] \"GET /hour_interface HTTP/1.1\" 200 -\n",
      "127.0.0.1 - - [25/Oct/2021 18:49:22] \"GET /insert_log.js HTTP/1.1\" 404 -\n",
      "127.0.0.1 - - [25/Oct/2021 18:49:22] \"GET /tasks.js HTTP/1.1\" 404 -\n",
      "127.0.0.1 - - [25/Oct/2021 18:49:22] \"GET /logs.js HTTP/1.1\" 404 -\n",
      "127.0.0.1 - - [25/Oct/2021 18:49:22] \"GET /favicon.ico HTTP/1.1\" 404 -\n",
      "127.0.0.1 - - [25/Oct/2021 18:49:35] \"GET /insert_log.js HTTP/1.1\" 404 -\n"
     ]
    }
   ],
   "source": [
    "my_app.addPage(\"/hour_interface\", hour_interface_html)\n",
    "webbrowser.open_new_tab('http://localhost:5000/hour_interface')\n"
   ]
  },
  {
   "cell_type": "code",
   "execution_count": 63,
   "id": "30c0ccb7",
   "metadata": {},
   "outputs": [
    {
     "name": "stdout",
     "output_type": "stream",
     "text": [
      "<button onclick=\"show_tasks()\">get tasks</button>\n",
      "<p id=\"demo\"></p>\n",
      "\n",
      "<script>\n",
      "function get_tasks() {\n",
      "var url = \"http://localhost:5000/get_tasks\";\n",
      "var xhr = new XMLHttpRequest();\n",
      "xhr.open(\"GET\", url, true);\n",
      "xhr.setRequestHeader(\"Accept\", \"application/json\");\n",
      "xhr.setRequestHeader(\"Content-Type\", \"application/json\");\n",
      "xhr.onreadystatechange = function () {\n",
      "   if (xhr.readyState === 4) {\n",
      "      console.log(xhr.status);\n",
      "//       console.log(xhr.responseText);\n",
      "//       document.getElementById(\"demo\").innerHTML = 'status=' + xhr.status + 'response=' + xhr.responseText;\n",
      "       tasks_response = JSON.parse(xhr.responseText);\n",
      "       tasks = tasks_response['tasks'];\n",
      "//       document.getElementById(\"demo\").innerHTML = JSON.stringify(tasks[0]);\n",
      "       return tasks\n",
      "   }};\n",
      "\n",
      "xhr.send(null);\n",
      "}\n",
      "\n",
      "function show_tasks() {\n",
      "    tasks = get_tasks();\n",
      "    document.getElementById(\"demo\").innerHTML = JSON.stringify(tasks[0]);\n",
      "}\n",
      "</script>\n",
      "Opening page file:////Users/rook/Documents/github/python/hour_reporting/hour_tasks_demo.html in the browser\n"
     ]
    },
    {
     "name": "stderr",
     "output_type": "stream",
     "text": [
      "127.0.0.1 - - [18/Oct/2021 20:03:26] \"OPTIONS /get_tasks HTTP/1.1\" 200 -\n",
      "127.0.0.1 - - [18/Oct/2021 20:03:26] \"GET /get_tasks HTTP/1.1\" 200 -\n",
      "127.0.0.1 - - [18/Oct/2021 20:03:27] \"OPTIONS /get_tasks HTTP/1.1\" 200 -\n",
      "127.0.0.1 - - [18/Oct/2021 20:03:27] \"GET /get_tasks HTTP/1.1\" 200 -\n",
      "127.0.0.1 - - [18/Oct/2021 20:03:27] \"OPTIONS /get_tasks HTTP/1.1\" 200 -\n",
      "127.0.0.1 - - [18/Oct/2021 20:03:27] \"GET /get_tasks HTTP/1.1\" 200 -\n",
      "127.0.0.1 - - [18/Oct/2021 20:03:28] \"OPTIONS /get_tasks HTTP/1.1\" 200 -\n",
      "127.0.0.1 - - [18/Oct/2021 20:03:28] \"GET /get_tasks HTTP/1.1\" 200 -\n"
     ]
    }
   ],
   "source": [
    "%%jedit -h -o hour_tasks_demo.html -w hour_tasks.html\n",
    "// tämä esimerkki on asynkronisesta kutsusta, mutta kokeillaan ensin synkronista\n",
    "<button onclick=\"show_tasks()\">get tasks</button>\n",
    "<p id=\"demo\"></p>\n",
    "\n",
    "<script>\n",
    "function get_tasks() {\n",
    "var url = \"http://localhost:5000/get_tasks\";\n",
    "var xhr = new XMLHttpRequest();\n",
    "xhr.open(\"GET\", url, true);\n",
    "xhr.setRequestHeader(\"Accept\", \"application/json\");\n",
    "xhr.setRequestHeader(\"Content-Type\", \"application/json\");\n",
    "xhr.onreadystatechange = function () {\n",
    "   if (xhr.readyState === 4) {\n",
    "      console.log(xhr.status);\n",
    "//       console.log(xhr.responseText);\n",
    "//       document.getElementById(\"demo\").innerHTML = 'status=' + xhr.status + 'response=' + xhr.responseText;\n",
    "       tasks_response = JSON.parse(xhr.responseText);\n",
    "       tasks = tasks_response['tasks'];\n",
    "//       document.getElementById(\"demo\").innerHTML = JSON.stringify(tasks[0]);\n",
    "       return tasks\n",
    "   }};\n",
    "\n",
    "xhr.send(null);\n",
    "}\n",
    "\n",
    "function show_tasks() {\n",
    "    tasks = get_tasks();\n",
    "    document.getElementById(\"demo\").innerHTML = JSON.stringify(tasks[0]);\n",
    "}\n",
    "</script>\n"
   ]
  },
  {
   "cell_type": "code",
   "execution_count": 29,
   "id": "eb7e0985",
   "metadata": {},
   "outputs": [
    {
     "name": "stdout",
     "output_type": "stream",
     "text": [
      "Writing SQL query in file : ./sql/get_logs.sql\n"
     ]
    },
    {
     "data": {
      "text/html": [
       "<div>\n",
       "<style scoped>\n",
       "    .dataframe tbody tr th:only-of-type {\n",
       "        vertical-align: middle;\n",
       "    }\n",
       "\n",
       "    .dataframe tbody tr th {\n",
       "        vertical-align: top;\n",
       "    }\n",
       "\n",
       "    .dataframe thead th {\n",
       "        text-align: right;\n",
       "    }\n",
       "</style>\n",
       "<table border=\"1\" class=\"dataframe\">\n",
       "  <thead>\n",
       "    <tr style=\"text-align: right;\">\n",
       "      <th></th>\n",
       "      <th>id</th>\n",
       "      <th>jira_id</th>\n",
       "      <th>description</th>\n",
       "      <th>log_time</th>\n",
       "    </tr>\n",
       "  </thead>\n",
       "  <tbody>\n",
       "    <tr>\n",
       "      <th>0</th>\n",
       "      <td>1</td>\n",
       "      <td>test_ticket</td>\n",
       "      <td>test</td>\n",
       "      <td>2021-10-19 19:27:15.707040</td>\n",
       "    </tr>\n",
       "    <tr>\n",
       "      <th>1</th>\n",
       "      <td>2</td>\n",
       "      <td>test_ticket</td>\n",
       "      <td>test</td>\n",
       "      <td>2021-10-19 19:27:19.574387</td>\n",
       "    </tr>\n",
       "    <tr>\n",
       "      <th>2</th>\n",
       "      <td>3</td>\n",
       "      <td>ABC-2</td>\n",
       "      <td></td>\n",
       "      <td>2021-10-19 19:27:31.302530</td>\n",
       "    </tr>\n",
       "    <tr>\n",
       "      <th>3</th>\n",
       "      <td>4</td>\n",
       "      <td>ABC-2</td>\n",
       "      <td></td>\n",
       "      <td>2021-10-19 19:27:59.612246</td>\n",
       "    </tr>\n",
       "    <tr>\n",
       "      <th>4</th>\n",
       "      <td>5</td>\n",
       "      <td>ABC-2</td>\n",
       "      <td></td>\n",
       "      <td>2021-10-19 19:28:54.432035</td>\n",
       "    </tr>\n",
       "    <tr>\n",
       "      <th>...</th>\n",
       "      <td>...</td>\n",
       "      <td>...</td>\n",
       "      <td>...</td>\n",
       "      <td>...</td>\n",
       "    </tr>\n",
       "    <tr>\n",
       "      <th>64</th>\n",
       "      <td>66</td>\n",
       "      <td>ABC-2</td>\n",
       "      <td></td>\n",
       "      <td>2021-10-21 19:00:43.534840</td>\n",
       "    </tr>\n",
       "    <tr>\n",
       "      <th>65</th>\n",
       "      <td>67</td>\n",
       "      <td>UNIT-A</td>\n",
       "      <td></td>\n",
       "      <td>2021-10-21 19:00:57.591279</td>\n",
       "    </tr>\n",
       "    <tr>\n",
       "      <th>66</th>\n",
       "      <td>68</td>\n",
       "      <td>UUSI-2</td>\n",
       "      <td>No vähän kaikkea</td>\n",
       "      <td>2021-10-21 19:01:12.697145</td>\n",
       "    </tr>\n",
       "    <tr>\n",
       "      <th>67</th>\n",
       "      <td>69</td>\n",
       "      <td>UUSI-1</td>\n",
       "      <td>aa</td>\n",
       "      <td>2021-10-21 21:50:14.980370</td>\n",
       "    </tr>\n",
       "    <tr>\n",
       "      <th>68</th>\n",
       "      <td>70</td>\n",
       "      <td>ssss</td>\n",
       "      <td></td>\n",
       "      <td>2021-10-21 21:50:21.896186</td>\n",
       "    </tr>\n",
       "  </tbody>\n",
       "</table>\n",
       "<p>69 rows × 4 columns</p>\n",
       "</div>"
      ],
      "text/plain": [
       "    id      jira_id       description                    log_time\n",
       "0    1  test_ticket              test  2021-10-19 19:27:15.707040\n",
       "1    2  test_ticket              test  2021-10-19 19:27:19.574387\n",
       "2    3        ABC-2                    2021-10-19 19:27:31.302530\n",
       "3    4        ABC-2                    2021-10-19 19:27:59.612246\n",
       "4    5        ABC-2                    2021-10-19 19:28:54.432035\n",
       "..  ..          ...               ...                         ...\n",
       "64  66        ABC-2                    2021-10-21 19:00:43.534840\n",
       "65  67       UNIT-A                    2021-10-21 19:00:57.591279\n",
       "66  68       UUSI-2  No vähän kaikkea  2021-10-21 19:01:12.697145\n",
       "67  69       UUSI-1                aa  2021-10-21 21:50:14.980370\n",
       "68  70         ssss                    2021-10-21 21:50:21.896186\n",
       "\n",
       "[69 rows x 4 columns]"
      ]
     },
     "execution_count": 29,
     "metadata": {},
     "output_type": "execute_result"
    }
   ],
   "source": [
    "%%sql my_conn -d ./sql -w get_logs -ww\n",
    "select\n",
    "    *\n",
    "from\n",
    "    time_log"
   ]
  },
  {
   "cell_type": "code",
   "execution_count": 54,
   "id": "564303f8",
   "metadata": {},
   "outputs": [
    {
     "data": {
      "application/javascript": [
       "function insert_log() {\n",
       "var url = \"http://localhost:5000/insert_log\";\n",
       "\n",
       "var xhr = new XMLHttpRequest();\n",
       "xhr.open(\"POST\", url);\n",
       "\n",
       "xhr.setRequestHeader(\"Accept\", \"application/json\");\n",
       "xhr.setRequestHeader(\"Content-Type\", \"application/json\");\n",
       "\n",
       "xhr.onreadystatechange = function () {\n",
       "   if (xhr.readyState === 4) {\n",
       "      console.log(xhr.status);\n",
       "      console.log(xhr.responseText);\n",
       "   }};\n",
       "\n",
       "var data = \"{}\";\n",
       "\n",
       "xhr.send(data);\n",
       "}\n"
      ],
      "text/plain": [
       "<IPython.core.display.Javascript object>"
      ]
     },
     "metadata": {},
     "output_type": "display_data"
    }
   ],
   "source": [
    "%%js\n",
    "function insert_log() {\n",
    "var url = \"http://localhost:5000/insert_log\";\n",
    "\n",
    "var xhr = new XMLHttpRequest();\n",
    "xhr.open(\"POST\", url);\n",
    "\n",
    "xhr.setRequestHeader(\"Accept\", \"application/json\");\n",
    "xhr.setRequestHeader(\"Content-Type\", \"application/json\");\n",
    "\n",
    "xhr.onreadystatechange = function () {\n",
    "   if (xhr.readyState === 4) {\n",
    "      console.log(xhr.status);\n",
    "      console.log(xhr.responseText);\n",
    "   }};\n",
    "\n",
    "var data = \"{}\";\n",
    "\n",
    "xhr.send(data);\n",
    "}"
   ]
  },
  {
   "cell_type": "code",
   "execution_count": 77,
   "id": "3cc06ada",
   "metadata": {
    "collapsed": true
   },
   "outputs": [
    {
     "name": "stdout",
     "output_type": "stream",
     "text": [
      "<!DOCTYPE html>\n",
      "<html>\n",
      "<body>\n",
      "\n",
      "<p>Hour interface</p>\n",
      "\n",
      "<button onclick=\"myFunction()\">insert hour</button>\n",
      "\n",
      "<p id=\"demo\"></p>\n",
      "\n",
      "<script>\n",
      "function insert_log() {\n",
      "var url = \"http://localhost:5000/insert_log\";\n",
      "\n",
      "var xhr = new XMLHttpRequest();\n",
      "xhr.open(\"POST\", url);\n",
      "\n",
      "xhr.setRequestHeader(\"Accept\", \"application/json\");\n",
      "xhr.setRequestHeader(\"Content-Type\", \"application/json\");\n",
      "\n",
      "xhr.onreadystatechange = function () {\n",
      "   if (xhr.readyState === 4) {\n",
      "      console.log(xhr.status);\n",
      "      console.log(xhr.responseText);\n",
      "   }};\n",
      "\n",
      "var data = \"{}\";\n",
      "\n",
      "xhr.send(data);\n",
      "}\n",
      "\n",
      "function myFunction() {\n",
      "    insert_log();\n",
      "  document.getElementById(\"demo\").innerHTML = \"Hello World\";\n",
      "}\n",
      "</script>\n",
      "Opening page file:////Users/rook/Documents/github/python/hour_reporting/temp.html in the browser\n"
     ]
    }
   ],
   "source": [
    "%%jedit -h -o temp.html -w hour_interface.html\n",
    "<!DOCTYPE html>\n",
    "<html>\n",
    "<body>\n",
    "\n",
    "<p>Hour interface</p>\n",
    "\n",
    "<button onclick=\"myFunction()\">insert hour</button>\n",
    "\n",
    "<p id=\"demo\"></p>\n",
    "\n",
    "<script>\n",
    "function insert_log() {\n",
    "var url = \"http://localhost:5000/insert_log\";\n",
    "\n",
    "var xhr = new XMLHttpRequest();\n",
    "xhr.open(\"POST\", url);\n",
    "\n",
    "xhr.setRequestHeader(\"Accept\", \"application/json\");\n",
    "xhr.setRequestHeader(\"Content-Type\", \"application/json\");\n",
    "\n",
    "xhr.onreadystatechange = function () {\n",
    "   if (xhr.readyState === 4) {\n",
    "      console.log(xhr.status);\n",
    "      console.log(xhr.responseText);\n",
    "   }};\n",
    "\n",
    "var data = \"{}\";\n",
    "\n",
    "xhr.send(data);\n",
    "}\n",
    "\n",
    "function myFunction() {\n",
    "    insert_log();\n",
    "  document.getElementById(\"demo\").innerHTML = \"Hello World\";\n",
    "}\n",
    "</script>\n"
   ]
  }
 ],
 "metadata": {
  "kernelspec": {
   "display_name": "Python 3 (ipykernel)",
   "language": "python",
   "name": "python3"
  },
  "language_info": {
   "codemirror_mode": {
    "name": "ipython",
    "version": 3
   },
   "file_extension": ".py",
   "mimetype": "text/x-python",
   "name": "python",
   "nbconvert_exporter": "python",
   "pygments_lexer": "ipython3",
   "version": "3.9.7"
  }
 },
 "nbformat": 4,
 "nbformat_minor": 5
}
