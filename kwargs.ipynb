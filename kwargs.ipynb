{
 "cells": [
  {
   "cell_type": "code",
   "execution_count": 1,
   "metadata": {},
   "outputs": [
    {
     "name": "stdout",
     "output_type": "stream",
     "text": [
      "{'fuuga': 1, 'baari': 2}\n"
     ]
    },
    {
     "data": {
      "text/plain": [
       "{'foo': 1, 'bar': 'txt'}"
      ]
     },
     "execution_count": 1,
     "metadata": {},
     "output_type": "execute_result"
    }
   ],
   "source": [
    "def myKwargFunction(**kwargs):\n",
    "    return kwargs\n",
    "\n",
    "print(myKwargFunction(fuuga = 1, baari = 2))\n",
    "\n",
    "params = {'foo' : 1, 'bar' : 'txt'}\n",
    "\n",
    "myKwargFunction(**params)"
   ]
  },
  {
   "cell_type": "code",
   "execution_count": 14,
   "metadata": {},
   "outputs": [
    {
     "data": {
      "text/plain": [
       "({'foo': 1, 'bar': 2}, {'foo': 1})"
      ]
     },
     "execution_count": 14,
     "metadata": {},
     "output_type": "execute_result"
    }
   ],
   "source": [
    "def curry(fun, **kwargsCurry):\n",
    "    def ret(**kwargs):\n",
    "        kwargsFun = kwargsCurry.copy()\n",
    "        kwargsFun.update(kwargs)\n",
    "        return fun(**kwargsFun)\n",
    "    ret.defaultKwargs = kwargsCurry.copy()\n",
    "    return ret\n",
    "\n",
    "myCurriedFunction = curry(myKwargFunction, foo = 1)\n",
    "myCurriedFunction(bar = 2), myCurriedFunction.defaultKwargs"
   ]
  },
  {
   "cell_type": "code",
   "execution_count": 19,
   "metadata": {},
   "outputs": [
    {
     "name": "stdout",
     "output_type": "stream",
     "text": [
      "    foo = 1 -- <class 'int'>\n",
      "and bar = 'string' -- <class 'str'>\n",
      "and xyzzy = '2020-05-11 19:53:59.000' -- <class '__main__.myTime'>\n"
     ]
    }
   ],
   "source": [
    "import datetime\n",
    "\n",
    "class myTime():\n",
    "    def __init__(self, delta = 0):\n",
    "        self.time = datetime.datetime.now()\n",
    "    def __repr__(self):\n",
    "        return(f\"'{self.time:%Y-%m-%d %H:%M:%S.000}'\")\n",
    "\n",
    "def kwargsAsSQL(**kwargs):\n",
    "    ret = []\n",
    "    for key, valueRaw in kwargs.items():\n",
    "#         if isinstance(valueRaw, str):\n",
    "#             value = f\"'valueRaw'\"\n",
    "#         else:\n",
    "#             value = valueRaw\n",
    "        value = valueRaw\n",
    "        ret.append(f\"{key} = {value!r} -- {type(valueRaw)}\")\n",
    "    return \"    \" + \"\\nand \".join(ret)\n",
    "\n",
    "print(kwargsAsSQL(foo = 1\n",
    "                  ,bar = 'string'\n",
    "                  ,xyzzy = myTime()))"
   ]
  },
  {
   "cell_type": "code",
   "execution_count": 20,
   "metadata": {},
   "outputs": [
    {
     "data": {
      "text/plain": [
       "{'foo': ['1', '2'], 'bar': [\"'ccc'\"]}"
      ]
     },
     "execution_count": 20,
     "metadata": {},
     "output_type": "execute_result"
    }
   ],
   "source": [
    "import urllib\n",
    "def parseQueryString(qs):\n",
    "    return myKwargFunction(**urllib.parse.parse_qs(qs))\n",
    "parseQueryString(\"foo=1&bar='ccc'&foo=2\")"
   ]
  },
  {
   "cell_type": "code",
   "execution_count": 23,
   "metadata": {},
   "outputs": [
    {
     "data": {
      "text/plain": [
       "'foo=1&bar=txt'"
      ]
     },
     "execution_count": 23,
     "metadata": {},
     "output_type": "execute_result"
    }
   ],
   "source": [
    "def makeQueryString(**kwargs):\n",
    "    return \"&\".join([f\"{key}={value}\" for key, value in kwargs.items()])\n",
    "\n",
    "makeQueryString(**params)"
   ]
  },
  {
   "cell_type": "code",
   "execution_count": 15,
   "metadata": {},
   "outputs": [
    {
     "data": {
      "text/plain": [
       "{'foo': ['1'], 'bar': ['txt']}"
      ]
     },
     "execution_count": 15,
     "metadata": {},
     "output_type": "execute_result"
    }
   ],
   "source": [
    "parseQueryString(makeQueryString(**params))"
   ]
  },
  {
   "cell_type": "code",
   "execution_count": 8,
   "metadata": {
    "collapsed": true
   },
   "outputs": [
    {
     "ename": "TypeError",
     "evalue": "urlunparse() got an unexpected keyword argument 'foo'",
     "output_type": "error",
     "traceback": [
      "\u001b[1;31m---------------------------------------------------------------------------\u001b[0m",
      "\u001b[1;31mTypeError\u001b[0m                                 Traceback (most recent call last)",
      "\u001b[1;32m<ipython-input-8-38ec643e262d>\u001b[0m in \u001b[0;36m<module>\u001b[1;34m\u001b[0m\n\u001b[0;32m      2\u001b[0m     \u001b[1;32mreturn\u001b[0m \u001b[0murllib\u001b[0m\u001b[1;33m.\u001b[0m\u001b[0mparse\u001b[0m\u001b[1;33m.\u001b[0m\u001b[0murlunparse\u001b[0m\u001b[1;33m(\u001b[0m\u001b[1;33m**\u001b[0m\u001b[0mkwargs\u001b[0m\u001b[1;33m)\u001b[0m\u001b[1;33m\u001b[0m\u001b[1;33m\u001b[0m\u001b[0m\n\u001b[0;32m      3\u001b[0m \u001b[1;33m\u001b[0m\u001b[0m\n\u001b[1;32m----> 4\u001b[1;33m \u001b[0mmakeQueryString\u001b[0m\u001b[1;33m(\u001b[0m\u001b[1;33m**\u001b[0m\u001b[0mparams\u001b[0m\u001b[1;33m)\u001b[0m\u001b[1;33m\u001b[0m\u001b[1;33m\u001b[0m\u001b[0m\n\u001b[0m",
      "\u001b[1;32m<ipython-input-8-38ec643e262d>\u001b[0m in \u001b[0;36mmakeQueryString\u001b[1;34m(**kwargs)\u001b[0m\n\u001b[0;32m      1\u001b[0m \u001b[1;32mdef\u001b[0m \u001b[0mmakeQueryString\u001b[0m\u001b[1;33m(\u001b[0m\u001b[1;33m**\u001b[0m\u001b[0mkwargs\u001b[0m\u001b[1;33m)\u001b[0m\u001b[1;33m:\u001b[0m\u001b[1;33m\u001b[0m\u001b[1;33m\u001b[0m\u001b[0m\n\u001b[1;32m----> 2\u001b[1;33m     \u001b[1;32mreturn\u001b[0m \u001b[0murllib\u001b[0m\u001b[1;33m.\u001b[0m\u001b[0mparse\u001b[0m\u001b[1;33m.\u001b[0m\u001b[0murlunparse\u001b[0m\u001b[1;33m(\u001b[0m\u001b[1;33m**\u001b[0m\u001b[0mkwargs\u001b[0m\u001b[1;33m)\u001b[0m\u001b[1;33m\u001b[0m\u001b[1;33m\u001b[0m\u001b[0m\n\u001b[0m\u001b[0;32m      3\u001b[0m \u001b[1;33m\u001b[0m\u001b[0m\n\u001b[0;32m      4\u001b[0m \u001b[0mmakeQueryString\u001b[0m\u001b[1;33m(\u001b[0m\u001b[1;33m**\u001b[0m\u001b[0mparams\u001b[0m\u001b[1;33m)\u001b[0m\u001b[1;33m\u001b[0m\u001b[1;33m\u001b[0m\u001b[0m\n",
      "\u001b[1;31mTypeError\u001b[0m: urlunparse() got an unexpected keyword argument 'foo'"
     ]
    }
   ],
   "source": [
    "def makeQueryString(**kwargs):\n",
    "    return urllib.parse.urlunparse(**kwargs)\n",
    "\n",
    "makeQueryString(**params)"
   ]
  },
  {
   "cell_type": "code",
   "execution_count": null,
   "metadata": {},
   "outputs": [],
   "source": [
    "def myCallFunctionWithQueryString(myFunction, myQueryString):\n",
    "    myKwargs = urllib.parse.parse_qs(myQueryString)\n",
    "    return myFunction(**myKwargs)\n",
    "\n",
    "myCallFunctionWithQueryString(myFooBarFunction, \"foo=1&bar='ccc'\")"
   ]
  },
  {
   "cell_type": "code",
   "execution_count": 27,
   "metadata": {},
   "outputs": [
    {
     "name": "stdout",
     "output_type": "stream",
     "text": [
      "x = 1, kwargs = {'y': 2, 'z': 3, 'z2': 3}\n"
     ]
    }
   ],
   "source": [
    "def foo(x = None, **kwargs):\n",
    "    print(f\"x = {x}, kwargs = {kwargs}\")\n",
    "\n",
    "myKwargs1 = {'y' : 2}\n",
    "myKwargs2 = {'z' : 3}\n",
    "myKwargs3 = {'z2' : 3}\n",
    "\n",
    "foo(x = 1, **myKwargs1, **myKwargs2, **myKwargs3)"
   ]
  },
  {
   "cell_type": "code",
   "execution_count": 15,
   "metadata": {},
   "outputs": [],
   "source": [
    "def foo(a, b, c):\n",
    "    return a * b + c\n",
    "\n",
    "foo(1, 2, 3)\n",
    "foo.__defaults__"
   ]
  },
  {
   "cell_type": "code",
   "execution_count": 22,
   "metadata": {},
   "outputs": [],
   "source": [
    "def foo(a = 1, b = 2):\n",
    "    return a * b\n",
    "\n",
    "foo.__defaults__\n",
    "foo.__kwdefaults__"
   ]
  },
  {
   "cell_type": "code",
   "execution_count": 11,
   "metadata": {},
   "outputs": [
    {
     "name": "stdout",
     "output_type": "stream",
     "text": [
      "None\n"
     ]
    }
   ],
   "source": [
    "print(foo.__closure__)"
   ]
  },
  {
   "cell_type": "code",
   "execution_count": 23,
   "metadata": {},
   "outputs": [
    {
     "name": "stdout",
     "output_type": "stream",
     "text": [
      "__annotations__ = {}\n",
      "__call__ = <method-wrapper '__call__' of function object at 0x00000171D3D72438>\n",
      "__class__ = <class 'function'>\n",
      "__closure__ = None\n",
      "__code__ = <code object foo at 0x00000171D3D729C0, file \"<ipython-input-22-c2c4064456b1>\", line 1>\n",
      "__defaults__ = (1, 2)\n",
      "__delattr__ = <method-wrapper '__delattr__' of function object at 0x00000171D3D72438>\n",
      "__dict__ = {}\n",
      "__dir__ = <built-in method __dir__ of function object at 0x00000171D3D72438>\n",
      "__doc__ = None\n",
      "__eq__ = <method-wrapper '__eq__' of function object at 0x00000171D3D72438>\n",
      "__format__ = <built-in method __format__ of function object at 0x00000171D3D72438>\n",
      "__ge__ = <method-wrapper '__ge__' of function object at 0x00000171D3D72438>\n",
      "__get__ = <method-wrapper '__get__' of function object at 0x00000171D3D72438>\n",
      "__getattribute__ = <method-wrapper '__getattribute__' of function object at 0x00000171D3D72438>\n",
      "__gt__ = <method-wrapper '__gt__' of function object at 0x00000171D3D72438>\n",
      "__hash__ = <method-wrapper '__hash__' of function object at 0x00000171D3D72438>\n",
      "__init__ = <method-wrapper '__init__' of function object at 0x00000171D3D72438>\n",
      "__init_subclass__ = <built-in method __init_subclass__ of type object at 0x00007FFDA1DC4240>\n",
      "__kwdefaults__ = None\n",
      "__le__ = <method-wrapper '__le__' of function object at 0x00000171D3D72438>\n",
      "__lt__ = <method-wrapper '__lt__' of function object at 0x00000171D3D72438>\n",
      "__module__ = __main__\n",
      "__name__ = foo\n",
      "__ne__ = <method-wrapper '__ne__' of function object at 0x00000171D3D72438>\n",
      "__new__ = <built-in method __new__ of type object at 0x00007FFDA1DC4240>\n",
      "__qualname__ = foo\n",
      "__reduce__ = <built-in method __reduce__ of function object at 0x00000171D3D72438>\n",
      "__reduce_ex__ = <built-in method __reduce_ex__ of function object at 0x00000171D3D72438>\n",
      "__repr__ = <method-wrapper '__repr__' of function object at 0x00000171D3D72438>\n",
      "__setattr__ = <method-wrapper '__setattr__' of function object at 0x00000171D3D72438>\n",
      "__sizeof__ = <built-in method __sizeof__ of function object at 0x00000171D3D72438>\n",
      "__str__ = <method-wrapper '__str__' of function object at 0x00000171D3D72438>\n",
      "__subclasshook__ = <built-in method __subclasshook__ of type object at 0x00007FFDA1DC4240>\n"
     ]
    }
   ],
   "source": [
    "for attr in dir(foo):\n",
    "    if attr == '__globals__':\n",
    "        continue\n",
    "    print(f\"{attr} = {getattr(foo, attr)}\")"
   ]
  },
  {
   "cell_type": "code",
   "execution_count": 19,
   "metadata": {
    "collapsed": true
   },
   "outputs": [
    {
     "ename": "TypeError",
     "evalue": "can't pickle function objects",
     "output_type": "error",
     "traceback": [
      "\u001b[1;31m---------------------------------------------------------------------------\u001b[0m",
      "\u001b[1;31mTypeError\u001b[0m                                 Traceback (most recent call last)",
      "\u001b[1;32m<ipython-input-19-e7bf6f2ed6c5>\u001b[0m in \u001b[0;36m<module>\u001b[1;34m\u001b[0m\n\u001b[1;32m----> 1\u001b[1;33m \u001b[0mfoo\u001b[0m\u001b[1;33m.\u001b[0m\u001b[0m__reduce__\u001b[0m\u001b[1;33m(\u001b[0m\u001b[1;33m)\u001b[0m\u001b[1;33m\u001b[0m\u001b[1;33m\u001b[0m\u001b[0m\n\u001b[0m",
      "\u001b[1;32m~\\AppData\\Local\\Continuum\\anaconda3\\lib\\copyreg.py\u001b[0m in \u001b[0;36m_reduce_ex\u001b[1;34m(self, proto)\u001b[0m\n\u001b[0;32m     63\u001b[0m     \u001b[1;32melse\u001b[0m\u001b[1;33m:\u001b[0m\u001b[1;33m\u001b[0m\u001b[1;33m\u001b[0m\u001b[0m\n\u001b[0;32m     64\u001b[0m         \u001b[1;32mif\u001b[0m \u001b[0mbase\u001b[0m \u001b[1;32mis\u001b[0m \u001b[0mself\u001b[0m\u001b[1;33m.\u001b[0m\u001b[0m__class__\u001b[0m\u001b[1;33m:\u001b[0m\u001b[1;33m\u001b[0m\u001b[1;33m\u001b[0m\u001b[0m\n\u001b[1;32m---> 65\u001b[1;33m             \u001b[1;32mraise\u001b[0m \u001b[0mTypeError\u001b[0m\u001b[1;33m(\u001b[0m\u001b[1;34m\"can't pickle %s objects\"\u001b[0m \u001b[1;33m%\u001b[0m \u001b[0mbase\u001b[0m\u001b[1;33m.\u001b[0m\u001b[0m__name__\u001b[0m\u001b[1;33m)\u001b[0m\u001b[1;33m\u001b[0m\u001b[1;33m\u001b[0m\u001b[0m\n\u001b[0m\u001b[0;32m     66\u001b[0m         \u001b[0mstate\u001b[0m \u001b[1;33m=\u001b[0m \u001b[0mbase\u001b[0m\u001b[1;33m(\u001b[0m\u001b[0mself\u001b[0m\u001b[1;33m)\u001b[0m\u001b[1;33m\u001b[0m\u001b[1;33m\u001b[0m\u001b[0m\n\u001b[0;32m     67\u001b[0m     \u001b[0margs\u001b[0m \u001b[1;33m=\u001b[0m \u001b[1;33m(\u001b[0m\u001b[0mself\u001b[0m\u001b[1;33m.\u001b[0m\u001b[0m__class__\u001b[0m\u001b[1;33m,\u001b[0m \u001b[0mbase\u001b[0m\u001b[1;33m,\u001b[0m \u001b[0mstate\u001b[0m\u001b[1;33m)\u001b[0m\u001b[1;33m\u001b[0m\u001b[1;33m\u001b[0m\u001b[0m\n",
      "\u001b[1;31mTypeError\u001b[0m: can't pickle function objects"
     ]
    }
   ],
   "source": [
    "foo.__reduce__()"
   ]
  },
  {
   "cell_type": "code",
   "execution_count": 42,
   "metadata": {},
   "outputs": [],
   "source": [
    "def as_args_function(function, keywords):\n",
    "    def ret(*args):\n",
    "        kwargs = {}\n",
    "        for arg, kw in zip(args, keywords):\n",
    "            kwargs[kw] = arg\n",
    "        return function(**kwargs)\n",
    "    return ret\n",
    "    \n",
    "def foo(**kwargs):\n",
    "    return kwargs['a'] ** kwargs['b']\n",
    "    \n",
    "assert foo(a = 2, b = 3) == 8\n",
    "assert foo(a = 3, b = 2) == 9\n",
    "\n",
    "bar_1 = as_args_function(foo, ['a', 'b'])\n",
    "assert bar_1(2, 3) == 8\n",
    "\n",
    "bar_2 = as_args_function(foo, ['b', 'a'])\n",
    "assert bar_2(2, 3) == 9\n"
   ]
  },
  {
   "cell_type": "code",
   "execution_count": 77,
   "metadata": {},
   "outputs": [
    {
     "data": {
      "text/plain": [
       "'If 2 > 1 then 1 < 2'"
      ]
     },
     "execution_count": 77,
     "metadata": {},
     "output_type": "execute_result"
    }
   ],
   "source": [
    "import re\n",
    "\n",
    "def gen_args_format(txt, variable_pattern = r':([a-z_]+)'):\n",
    "    \"\"\"\n",
    "    Return a function that formats txt with given arguments. Arguments \n",
    "    \"\"\"\n",
    "    matches = re.findall(variable_pattern, txt)\n",
    "    variable_names = list(dict.fromkeys(matches))\n",
    "    format_pattern = r'{\\1!r}'\n",
    "    txt_format = re.sub(variable_pattern, format_pattern, txt)\n",
    "    return as_args_function(txt_format.format, variable_names)\n",
    "\n",
    "\n",
    "\n",
    "gen_args_format('If :a > :b then :b < :a')(2, 1)"
   ]
  },
  {
   "cell_type": "code",
   "execution_count": 72,
   "metadata": {},
   "outputs": [
    {
     "data": {
      "text/plain": [
       "'\\na 1 foo 2 d 1 2 44\\n'"
      ]
     },
     "execution_count": 72,
     "metadata": {},
     "output_type": "execute_result"
    }
   ],
   "source": [
    "testKwargs = {'c' : 1, 'b' : 2, 'd_e' : 44}\n",
    "testTxtFormat.format(c = 1, b = 2, d_e = 44)\n",
    "testTxtFormat.format(**testKwargs)"
   ]
  },
  {
   "cell_type": "code",
   "execution_count": 74,
   "metadata": {},
   "outputs": [
    {
     "data": {
      "text/plain": [
       "'\\na 33 foo 4 d 33 4 5\\n'"
      ]
     },
     "execution_count": 74,
     "metadata": {},
     "output_type": "execute_result"
    }
   ],
   "source": [
    "myFunction(33, 4, 5)"
   ]
  }
 ],
 "metadata": {
  "kernelspec": {
   "display_name": "Python 3",
   "language": "python",
   "name": "python3"
  },
  "language_info": {
   "codemirror_mode": {
    "name": "ipython",
    "version": 3
   },
   "file_extension": ".py",
   "mimetype": "text/x-python",
   "name": "python",
   "nbconvert_exporter": "python",
   "pygments_lexer": "ipython3",
   "version": "3.7.7"
  }
 },
 "nbformat": 4,
 "nbformat_minor": 2
}
