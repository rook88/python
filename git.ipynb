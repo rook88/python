{
 "cells": [
  {
   "cell_type": "code",
   "execution_count": 13,
   "id": "5dec148b",
   "metadata": {},
   "outputs": [
    {
     "name": "stdout",
     "output_type": "stream",
     "text": [
      "system\tfile:/opt/homebrew/etc/gitconfig\tcredential.helper=osxkeychain\r\n",
      "global\tfile:/Users/rook/.gitconfig\tuser.email=foo@bar\r\n",
      "local\tfile:.git/config\tcore.repositoryformatversion=0\r\n",
      "local\tfile:.git/config\tcore.filemode=true\r\n",
      "local\tfile:.git/config\tcore.bare=false\r\n",
      "local\tfile:.git/config\tcore.logallrefupdates=true\r\n",
      "local\tfile:.git/config\tcore.ignorecase=true\r\n",
      "local\tfile:.git/config\tcore.precomposeunicode=true\r\n",
      "local\tfile:.git/config\tremote.origin.url=https://github.com/rook88/python.git\r\n",
      "local\tfile:.git/config\tremote.origin.fetch=+refs/heads/*:refs/remotes/origin/*\r\n",
      "local\tfile:.git/config\tbranch.master.remote=origin\r\n",
      "local\tfile:.git/config\tbranch.master.merge=refs/heads/master\r\n"
     ]
    }
   ],
   "source": [
    "!git config --list --show-origin --show-scope"
   ]
  },
  {
   "cell_type": "code",
   "execution_count": 12,
   "id": "fca57ba6",
   "metadata": {},
   "outputs": [
    {
     "name": "stdout",
     "output_type": "stream",
     "text": [
      "[credential]\r\n",
      "\thelper = osxkeychain\r\n"
     ]
    }
   ],
   "source": [
    "!cat /opt/homebrew/etc/gitconfig"
   ]
  },
  {
   "cell_type": "code",
   "execution_count": 12,
   "id": "218f6f19",
   "metadata": {},
   "outputs": [
    {
     "name": "stdout",
     "output_type": "stream",
     "text": [
      "[credential]\r\n",
      "\thelper = osxkeychain\r\n"
     ]
    }
   ],
   "source": [
    "!cat /opt/homebrew/etc/gitconfig"
   ]
  },
  {
   "cell_type": "code",
   "execution_count": 7,
   "id": "09fc60c9",
   "metadata": {},
   "outputs": [
    {
     "name": "stdout",
     "output_type": "stream",
     "text": [
      "[core]\r\n",
      "\trepositoryformatversion = 0\r\n",
      "\tfilemode = true\r\n",
      "\tbare = false\r\n",
      "\tlogallrefupdates = true\r\n",
      "\tignorecase = true\r\n",
      "\tprecomposeunicode = true\r\n",
      "[remote \"origin\"]\r\n",
      "\turl = https://github.com/rook88/python.git\r\n",
      "\tfetch = +refs/heads/*:refs/remotes/origin/*\r\n",
      "[branch \"master\"]\r\n",
      "\tremote = origin\r\n",
      "\tmerge = refs/heads/master\r\n"
     ]
    }
   ],
   "source": [
    "!cat .git/config"
   ]
  },
  {
   "cell_type": "code",
   "execution_count": 10,
   "id": "31f883e8",
   "metadata": {},
   "outputs": [],
   "source": [
    "!git config --global user.email \"foo@bar\""
   ]
  },
  {
   "cell_type": "code",
   "execution_count": 11,
   "id": "6cc85e43",
   "metadata": {},
   "outputs": [
    {
     "name": "stdout",
     "output_type": "stream",
     "text": [
      "foo@bar\r\n"
     ]
    }
   ],
   "source": [
    "!git config --global user.email"
   ]
  }
 ],
 "metadata": {
  "kernelspec": {
   "display_name": "Python 3 (ipykernel)",
   "language": "python",
   "name": "python3"
  },
  "language_info": {
   "codemirror_mode": {
    "name": "ipython",
    "version": 3
   },
   "file_extension": ".py",
   "mimetype": "text/x-python",
   "name": "python",
   "nbconvert_exporter": "python",
   "pygments_lexer": "ipython3",
   "version": "3.9.13"
  }
 },
 "nbformat": 4,
 "nbformat_minor": 5
}
