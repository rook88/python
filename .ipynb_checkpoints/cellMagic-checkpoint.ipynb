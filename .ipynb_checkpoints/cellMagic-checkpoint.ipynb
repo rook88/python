{
 "cells": [
  {
   "cell_type": "code",
   "execution_count": 5,
   "metadata": {},
   "outputs": [
    {
     "name": "stdout",
     "output_type": "stream",
     "text": [
      "Overwriting cell_magic_test.py\n"
     ]
    }
   ],
   "source": [
    "%%writefile cell_magic_test.py\n",
    "from IPython.core.magic import (register_line_magic, register_cell_magic, register_line_cell_magic)\n",
    "from IPython.core.magic_arguments import (argument, magic_arguments, parse_argstring)\n",
    "\n",
    "import __main__\n",
    "\n",
    "@register_line_cell_magic\n",
    "@magic_arguments()\n",
    "@argument('-c', '--conversion',    help='Use __repr__ for conversion', action = 'store_true')\n",
    "\n",
    "def cm(line, cell):\n",
    "    args = parse_argstring(cm, line)\n",
    "    code = cell\n",
    "    if args.conversion:\n",
    "        code = code.replace('}', '!r}')\n",
    "    print(code.format(**vars(__main__)))\n",
    "\n",
    "__version__ = 1.1"
   ]
  },
  {
   "cell_type": "code",
   "execution_count": 2,
   "metadata": {},
   "outputs": [
    {
     "data": {
      "text/plain": [
       "<module 'cell_magic_test' from 'C:\\\\Users\\\\jokemjaa\\\\Documents\\\\GitHub\\\\python\\\\cell_magic_test.py'>"
      ]
     },
     "execution_count": 2,
     "metadata": {},
     "output_type": "execute_result"
    }
   ],
   "source": [
    "import importlib\n",
    "import cell_magic_test as cm\n",
    "importlib.reload(cm)\n"
   ]
  },
  {
   "cell_type": "code",
   "execution_count": 3,
   "metadata": {},
   "outputs": [],
   "source": [
    "foo = 2\n",
    "bar = \"test\""
   ]
  },
  {
   "cell_type": "code",
   "execution_count": 4,
   "metadata": {},
   "outputs": [
    {
     "name": "stdout",
     "output_type": "stream",
     "text": [
      "Text in the cell.\n",
      "Variable foo = 2\n",
      "Variable bar = 'test'\n",
      "Last row of the text.\n",
      "\n"
     ]
    }
   ],
   "source": [
    "%%cm -c\n",
    "Text in the cell.\n",
    "Variable foo = {foo}\n",
    "Variable bar = {bar}\n",
    "Last row of the text."
   ]
  }
 ],
 "metadata": {
  "kernelspec": {
   "display_name": "Python 3",
   "language": "python",
   "name": "python3"
  },
  "language_info": {
   "codemirror_mode": {
    "name": "ipython",
    "version": 3
   },
   "file_extension": ".py",
   "mimetype": "text/x-python",
   "name": "python",
   "nbconvert_exporter": "python",
   "pygments_lexer": "ipython3",
   "version": "3.7.7"
  }
 },
 "nbformat": 4,
 "nbformat_minor": 4
}
