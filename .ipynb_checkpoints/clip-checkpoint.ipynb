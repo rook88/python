{
 "cells": [
  {
   "cell_type": "code",
   "execution_count": 10,
   "metadata": {},
   "outputs": [
    {
     "data": {
      "application/javascript": [
       "Jupyter.keyboard_manager.command_shortcuts.add_shortcut('Alt-j', {\n",
       "    help : 'Loads myinit',\n",
       "    help_index : 'zz',\n",
       "    handler : function (event) {\n",
       "        Jupyter.notebook.kernel.execute('transformer()');\n",
       "        alert('clip changed');\n",
       "        return false;\n",
       "    }}\n",
       ");\n"
      ],
      "text/plain": [
       "<IPython.core.display.Javascript object>"
      ]
     },
     "metadata": {},
     "output_type": "display_data"
    }
   ],
   "source": [
    "%%javascript\n",
    "Jupyter.keyboard_manager.command_shortcuts.add_shortcut('Alt-j', {\n",
    "    help : 'Loads myinit',\n",
    "    help_index : 'zz',\n",
    "    handler : function (event) {\n",
    "        Jupyter.notebook.kernel.execute('transformer()');\n",
    "        alert('clip changed');\n",
    "        return false;\n",
    "    }}\n",
    ");"
   ]
  },
  {
   "cell_type": "code",
   "execution_count": 1,
   "metadata": {},
   "outputs": [],
   "source": [
    "import pyperclip"
   ]
  },
  {
   "cell_type": "code",
   "execution_count": null,
   "metadata": {},
   "outputs": [],
   "source": []
  },
  {
   "cell_type": "code",
   "execution_count": 16,
   "metadata": {},
   "outputs": [
    {
     "name": "stdout",
     "output_type": "stream",
     "text": [
      "%macro foo_import;\n",
      "%mend;\n",
      "%macro foo_export;\n",
      "%mend;\n"
     ]
    }
   ],
   "source": [
    "pyperclip.copy('foo')\n",
    "transformer()\n",
    "print(pyperclip.paste())"
   ]
  },
  {
   "cell_type": "code",
   "execution_count": 4,
   "metadata": {},
   "outputs": [],
   "source": [
    "def make_transformer(txt, sub_txt):\n",
    "    def transformer():\n",
    "        pyperclip.copy(txt.replace(sub_txt, pyperclip.paste()))\n",
    "    return transformer"
   ]
  },
  {
   "cell_type": "code",
   "execution_count": 18,
   "metadata": {},
   "outputs": [],
   "source": [
    "transformer = make_transformer('%macro veloitus_export_otos;\\n%mend;\\n%macro veloitus_export_ositus;\\n%mend;\\n', 'veloitus') "
   ]
  },
  {
   "cell_type": "code",
   "execution_count": null,
   "metadata": {},
   "outputs": [],
   "source": [
    "lasku\n",
    "suoritus_kirjaus"
   ]
  },
  {
   "cell_type": "code",
   "execution_count": null,
   "metadata": {},
   "outputs": [],
   "source": [
    "%macro lasku_export_otos;\n",
    "%mend;\n",
    "%macro lasku_export;\n",
    "%mend;\n",
    "%macro lasku_export_ositus;\n"
   ]
  },
  {
   "cell_type": "code",
   "execution_count": null,
   "metadata": {},
   "outputs": [],
   "source": [
    "foo\n",
    "foo\n",
    "%macro foo_import;"
   ]
  },
  {
   "cell_type": "code",
   "execution_count": null,
   "metadata": {},
   "outputs": [],
   "source": [
    "%macro ulo_import;\n",
    "mend;"
   ]
  }
 ],
 "metadata": {
  "kernelspec": {
   "display_name": "Python 3",
   "language": "python",
   "name": "python3"
  },
  "language_info": {
   "codemirror_mode": {
    "name": "ipython",
    "version": 3
   },
   "file_extension": ".py",
   "mimetype": "text/x-python",
   "name": "python",
   "nbconvert_exporter": "python",
   "pygments_lexer": "ipython3",
   "version": "3.7.7"
  }
 },
 "nbformat": 4,
 "nbformat_minor": 4
}
